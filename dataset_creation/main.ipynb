{
 "cells": [
  {
   "cell_type": "code",
   "execution_count": 6,
   "metadata": {
    "collapsed": true,
    "pycharm": {
     "name": "#%%\n"
    }
   },
   "source": [
    "import pysrt\n",
    "import subprocess\n",
    "import os"
   ],
   "outputs": []
  },
  {
   "cell_type": "code",
   "execution_count": 7,
   "source": [
    "def convert_video_to_audio_ffmpeg(video_file, output_ext=\"mp3\"):\n",
    "\n",
    "    filename, ext = os.path.splitext(video_file)\n",
    "    subprocess.call([\"ffmpeg\", \"-y\", \"-i\", video_file, f\"{filename}.{output_ext}\"],\n",
    "                    stdout=subprocess.DEVNULL,\n",
    "                    stderr=subprocess.STDOUT)"
   ],
   "metadata": {
    "collapsed": false,
    "pycharm": {
     "name": "#%%\n"
    }
   },
   "outputs": []
  },
  {
   "cell_type": "code",
   "execution_count": 8,
   "source": [
    "# convert_video_to_audio_ffmpeg(\"sample.mp4\")"
   ],
   "metadata": {
    "collapsed": false,
    "pycharm": {
     "name": "#%%\n"
    }
   },
   "outputs": []
  },
  {
   "cell_type": "code",
   "execution_count": 39,
   "source": [
    "def get_subtitles(filename):\n",
    "    subs = pysrt.open(filename)\n",
    "    start_time = subs[0].start\n",
    "    end_time = start_time + pysrt.SubRipTime(seconds=30)\n",
    "    time_intervals = []\n",
    "\n",
    "    for sub in subs:\n",
    "        if sub.start >= end_time:\n",
    "            time_intervals.append((start_time, end_time))\n",
    "            start_time = sub.start\n",
    "            end_time = start_time + pysrt.SubRipTime(seconds=30)\n",
    "        else:\n",
    "            end_time = sub.start + pysrt.SubRipTime(seconds=30)\n",
    "            if end_time > sub.end:\n",
    "                end_time = sub.end\n",
    "\n",
    "    # append the last interval\n",
    "    time_intervals.append((start_time, end_time))\n",
    "    return time_intervals\n"
   ],
   "metadata": {
    "collapsed": false,
    "pycharm": {
     "name": "#%%\n"
    }
   },
   "outputs": []
  },
  {
   "cell_type": "code",
   "execution_count": 40,
   "source": [
    "get_subtitles(\"sample.srt\")"
   ],
   "metadata": {
    "collapsed": false,
    "pycharm": {
     "name": "#%%\n"
    }
   },
   "outputs": []
  },
  {
   "cell_type": "code",
   "execution_count": 49,
   "source": [
    "from pydub import AudioSegment\n",
    "\n",
    "def cut_audio_by_intervals(audio_filename, subs, output_prefix):\n",
    "    # subs = pysrt.open(subs_filename)\n",
    "    audio = AudioSegment.from_file(audio_filename)\n",
    "\n",
    "    for i, interval in enumerate(subs):\n",
    "        start_time, end_time = interval\n",
    "        start_ms = start_time.hours * 3600000 + start_time.minutes * 60000 + start_time.seconds * 1000 + start_time.milliseconds\n",
    "        end_ms = end_time.hours * 3600000 + end_time.minutes * 60000 + end_time.seconds * 1000 + end_time.milliseconds\n",
    "\n",
    "        interval_audio = audio[start_ms:end_ms]\n",
    "        output_filename = f\"{output_prefix}_{i}.mp3\"\n",
    "        interval_audio.export(output_filename, format=\"mp3\")\n",
    "        return\n"
   ],
   "metadata": {
    "collapsed": false,
    "pycharm": {
     "name": "#%%\n"
    }
   },
   "outputs": []
  },
  {
   "cell_type": "code",
   "execution_count": 50,
   "source": [
    "subs = get_subtitles(\"sample.srt\")\n",
    "cut_audio_by_intervals(\"sample.mp4\", subs, \"sample/sample\")"
   ],
   "metadata": {
    "collapsed": false,
    "pycharm": {
     "name": "#%%\n"
    }
   },
   "outputs": []
  },
  {
   "cell_type": "code",
   "execution_count": 25,
   "source": [
    "763/1000.0"
   ],
   "metadata": {
    "collapsed": false,
    "pycharm": {
     "name": "#%%\n"
    }
   },
   "outputs": []
  },
  {
   "cell_type": "code",
   "execution_count": 47,
   "source": [
    "subs"
   ],
   "metadata": {
    "collapsed": false,
    "pycharm": {
     "name": "#%%\n"
    }
   },
   "outputs": []
  },
  {
   "cell_type": "code",
   "execution_count": null,
   "source": [],
   "metadata": {
    "collapsed": false,
    "pycharm": {
     "name": "#%%\n"
    }
   },
   "outputs": []
  }
 ],
 "metadata": {
  "kernelspec": {
   "name": "general",
   "language": "python",
   "display_name": "general"
  },
  "language_info": {
   "codemirror_mode": {
    "name": "ipython",
    "version": 2
   },
   "file_extension": ".py",
   "mimetype": "text/x-python",
   "name": "python",
   "nbconvert_exporter": "python",
   "pygments_lexer": "ipython2",
   "version": "2.7.6"
  }
 },
 "nbformat": 4,
 "nbformat_minor": 0
}
