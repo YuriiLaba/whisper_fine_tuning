{
 "cells": [
  {
   "cell_type": "code",
   "execution_count": 1,
   "metadata": {},
   "outputs": [],
   "source": [
    "import sys\n",
    "sys.path.append(\"/home/laba/golos/whisper_fine_tuning/dataset_creation/src/\")\n",
    "\n",
    "import numpy as np\n",
    "# import matplotlib.pyplot as plt\n",
    "import os\n",
    "import pandas as pd\n",
    "from tqdm import tqdm\n",
    "import librosa\n",
    "import glob\n",
    "\n",
    "from utils import load_labels\n",
    "from utils_model import load_model, predict_video\n",
    "from utils_analysis import calculate_wer, clean_text_before_wer"
   ]
  },
  {
   "cell_type": "code",
   "execution_count": 2,
   "metadata": {},
   "outputs": [],
   "source": [
    "labels = load_labels('results/filtered_labels_eval.jsonl')\n",
    "model_small = load_model('small')"
   ]
  },
  {
   "cell_type": "code",
   "execution_count": 3,
   "metadata": {},
   "outputs": [
    {
     "ename": "RuntimeError",
     "evalue": "Error(s) in loading state_dict for Whisper:\n\tMissing key(s) in state_dict: \"encoder.positional_embedding\", \"encoder.conv1.weight\", \"encoder.conv1.bias\", \"encoder.conv2.weight\", \"encoder.conv2.bias\", \"encoder.blocks.0.attn.query.weight\", \"encoder.blocks.0.attn.query.bias\", \"encoder.blocks.0.attn.key.weight\", \"encoder.blocks.0.attn.value.weight\", \"encoder.blocks.0.attn.value.bias\", \"encoder.blocks.0.attn.out.weight\", \"encoder.blocks.0.attn.out.bias\", \"encoder.blocks.0.attn_ln.weight\", \"encoder.blocks.0.attn_ln.bias\", \"encoder.blocks.0.mlp.0.weight\", \"encoder.blocks.0.mlp.0.bias\", \"encoder.blocks.0.mlp.2.weight\", \"encoder.blocks.0.mlp.2.bias\", \"encoder.blocks.0.mlp_ln.weight\", \"encoder.blocks.0.mlp_ln.bias\", \"encoder.blocks.1.attn.query.weight\", \"encoder.blocks.1.attn.query.bias\", \"encoder.blocks.1.attn.key.weight\", \"encoder.blocks.1.attn.value.weight\", \"encoder.blocks.1.attn.value.bias\", \"encoder.blocks.1.attn.out.weight\", \"encoder.blocks.1.attn.out.bias\", \"encoder.blocks.1.attn_ln.weight\", \"encoder.blocks.1.attn_ln.bias\", \"encoder.blocks.1.mlp.0.weight\", \"encoder.blocks.1.mlp.0.bias\", \"encoder.blocks.1.mlp.2.weight\", \"encoder.blocks.1.mlp.2.bias\", \"encoder.blocks.1.mlp_ln.weight\", \"encoder.blocks.1.mlp_ln.bias\", \"encoder.blocks.2.attn.query.weight\", \"encoder.blocks.2.attn.query.bias\", \"encoder.blocks.2.attn.key.weight\", \"encoder.blocks.2.attn.value.weight\", \"encoder.blocks.2.attn.value.bias\", \"encoder.blocks.2.attn.out.weight\", \"encoder.blocks.2.attn.out.bias\", \"encoder.blocks.2.attn_ln.weight\", \"encoder.blocks.2.attn_ln.bias\", \"encoder.blocks.2.mlp.0.weight\", \"encoder.blocks.2.mlp.0.bias\", \"encoder.blocks.2.mlp.2.weight\", \"encoder.blocks.2.mlp.2.bias\", \"encoder.blocks.2.mlp_ln.weight\", \"encoder.blocks.2.mlp_ln.bias\", \"encoder.blocks.3.attn.query.weight\", \"encoder.blocks.3.attn.query.bias\", \"encoder.blocks.3.attn.key.weight\", \"encoder.blocks.3.attn.value.weight\", \"encoder.blocks.3.attn.value.bias\", \"encoder.blocks.3.attn.out.weight\", \"encoder.blocks.3.attn.out.bias\", \"encoder.blocks.3.attn_ln.weight\", \"encoder.blocks.3.attn_ln.bias\", \"encoder.blocks.3.mlp.0.weight\", \"encoder.blocks.3.mlp.0.bias\", \"encoder.blocks.3.mlp.2.weight\", \"encoder.blocks.3.mlp.2.bias\", \"encoder.blocks.3.mlp_ln.weight\", \"encoder.blocks.3.mlp_ln.bias\", \"encoder.blocks.4.attn.query.weight\", \"encoder.blocks.4.attn.query.bias\", \"encoder.blocks.4.attn.key.weight\", \"encoder.blocks.4.attn.value.weight\", \"encoder.blocks.4.attn.value.bias\", \"encoder.blocks.4.attn.out.weight\", \"encoder.blocks.4.attn.out.bias\", \"encoder.blocks.4.attn_ln.weight\", \"encoder.blocks.4.attn_ln.bias\", \"encoder.blocks.4.mlp.0.weight\", \"encoder.blocks.4.mlp.0.bias\", \"encoder.blocks.4.mlp.2.weight\", \"encoder.blocks.4.mlp.2.bias\", \"encoder.blocks.4.mlp_ln.weight\", \"encoder.blocks.4.mlp_ln.bias\", \"encoder.blocks.5.attn.query.weight\", \"encoder.blocks.5.attn.query.bias\", \"encoder.blocks.5.attn.key.weight\", \"encoder.blocks.5.attn.value.weight\", \"encoder.blocks.5.attn.value.bias\", \"encoder.blocks.5.attn.out.weight\", \"encoder.blocks.5.attn.out.bias\", \"encoder.blocks.5.attn_ln.weight\", \"encoder.blocks.5.attn_ln.bias\", \"encoder.blocks.5.mlp.0.weight\", \"encoder.blocks.5.mlp.0.bias\", \"encoder.blocks.5.mlp.2.weight\", \"encoder.blocks.5.mlp.2.bias\", \"encoder.blocks.5.mlp_ln.weight\", \"encoder.blocks.5.mlp_ln.bias\", \"encoder.blocks.6.attn.query.weight\", \"encoder.blocks.6.attn.query.bias\", \"encoder.blocks.6.attn.key.weight\", \"encoder.blocks.6.attn.value.weight\", \"encoder.blocks.6.attn.value.bias\", \"encoder.blocks.6.attn.out.weight\", \"encoder.blocks.6.attn.out.bias\", \"encoder.blocks.6.attn_ln.weight\", \"encoder.blocks.6.attn_ln.bias\", \"encoder.blocks.6.mlp.0.weight\", \"encoder.blocks.6.mlp.0.bias\", \"encoder.blocks.6.mlp.2.weight\", \"encoder.blocks.6.mlp.2.bias\", \"encoder.blocks.6.mlp_ln.weight\", \"encoder.blocks.6.mlp_ln.bias\", \"encoder.blocks.7.attn.query.weight\", \"encoder.blocks.7.attn.query.bias\", \"encoder.blocks.7.attn.key.weight\", \"encoder.blocks.7.attn.value.weight\", \"encoder.blocks.7.attn.value.bias\", \"encoder.blocks.7.attn.out.weight\", \"encoder.blocks.7.attn.out.bias\", \"encoder.blocks.7.attn_ln.weight\", \"encoder.blocks.7.attn_ln.bias\", \"encoder.blocks.7.mlp.0.weight\", \"encoder.blocks.7.mlp.0.bias\", \"encoder.blocks.7.mlp.2.weight\", \"encoder.blocks.7.mlp.2.bias\", \"encoder.blocks.7.mlp_ln.weight\", \"encoder.blocks.7.mlp_ln.bias\", \"encoder.blocks.8.attn.query.weight\", \"encoder.blocks.8.attn.query.bias\", \"encoder.blocks.8.attn.key.weight\", \"encoder.blocks.8.attn.value.weight\", \"encoder.blocks.8.attn.value.bias\", \"encoder.blocks.8.attn.out.weight\", \"encoder.blocks.8.attn.out.bias\", \"encoder.blocks.8.attn_ln.weight\", \"encoder.blocks.8.attn_ln.bias\", \"encoder.blocks.8.mlp.0.weight\", \"encoder.blocks.8.mlp.0.bias\", \"encoder.blocks.8.mlp.2.weight\", \"encoder.blocks.8.mlp.2.bias\", \"encoder.blocks.8.mlp_ln.weight\", \"encoder.blocks.8.mlp_ln.bias\", \"encoder.blocks.9.attn.query.weight\", \"encoder.blocks.9.attn.query.bias\", \"encoder.blocks.9.attn.key.weight\", \"encoder.blocks.9.attn.value.weight\", \"encoder.blocks.9.attn.value.bias\", \"encoder.blocks.9.attn.out.weight\", \"encoder.blocks.9.attn.out.bias\", \"encoder.blocks.9.attn_ln.weight\", \"encoder.blocks.9.attn_ln.bias\", \"encoder.blocks.9.mlp.0.weight\", \"encoder.blocks.9.mlp.0.bias\", \"encoder.blocks.9.mlp.2.weight\", \"encoder.blocks.9.mlp.2.bias\", \"encoder.blocks.9.mlp_ln.weight\", \"encoder.blocks.9.mlp_ln.bias\", \"encoder.blocks.10.attn.query.weight\", \"encoder.blocks.10.attn.query.bias\", \"encoder.blocks.10.attn.key.weight\", \"encoder.blocks.10.attn.value.weight\", \"encoder.blocks.10.attn.value.bias\", \"encoder.blocks.10.attn.out.weight\", \"encoder.blocks.10.attn.out.bias\", \"encoder.blocks.10.attn_ln.weight\", \"encoder.blocks.10.attn_ln.bias\", \"encoder.blocks.10.mlp.0.weight\", \"encoder.blocks.10.mlp.0.bias\", \"encoder.blocks.10.mlp.2.weight\", \"encoder.blocks.10.mlp.2.bias\", \"encoder.blocks.10.mlp_ln.weight\", \"encoder.blocks.10.mlp_ln.bias\", \"encoder.blocks.11.attn.query.weight\", \"encoder.blocks.11.attn.query.bias\", \"encoder.blocks.11.attn.key.weight\", \"encoder.blocks.11.attn.value.weight\", \"encoder.blocks.11.attn.value.bias\", \"encoder.blocks.11.attn.out.weight\", \"encoder.blocks.11.attn.out.bias\", \"encoder.blocks.11.attn_ln.weight\", \"encoder.blocks.11.attn_ln.bias\", \"encoder.blocks.11.mlp.0.weight\", \"encoder.blocks.11.mlp.0.bias\", \"encoder.blocks.11.mlp.2.weight\", \"encoder.blocks.11.mlp.2.bias\", \"encoder.blocks.11.mlp_ln.weight\", \"encoder.blocks.11.mlp_ln.bias\", \"encoder.ln_post.weight\", \"encoder.ln_post.bias\", \"decoder.positional_embedding\", \"decoder.token_embedding.weight\", \"decoder.blocks.0.attn.query.weight\", \"decoder.blocks.0.attn.query.bias\", \"decoder.blocks.0.attn.key.weight\", \"decoder.blocks.0.attn.value.weight\", \"decoder.blocks.0.attn.value.bias\", \"decoder.blocks.0.attn.out.weight\", \"decoder.blocks.0.attn.out.bias\", \"decoder.blocks.0.attn_ln.weight\", \"decoder.blocks.0.attn_ln.bias\", \"decoder.blocks.0.cross_attn.query.weight\", \"decoder.blocks.0.cross_attn.query.bias\", \"decoder.blocks.0.cross_attn.key.weight\", \"decoder.blocks.0.cross_attn.value.weight\", \"decoder.blocks.0.cross_attn.value.bias\", \"decoder.blocks.0.cross_attn.out.weight\", \"decoder.blocks.0.cross_attn.out.bias\", \"decoder.blocks.0.cross_attn_ln.weight\", \"decoder.blocks.0.cross_attn_ln.bias\", \"decoder.blocks.0.mlp.0.weight\", \"decoder.blocks.0.mlp.0.bias\", \"decoder.blocks.0.mlp.2.weight\", \"decoder.blocks.0.mlp.2.bias\", \"decoder.blocks.0.mlp_ln.weight\", \"decoder.blocks.0.mlp_ln.bias\", \"decoder.blocks.1.attn.query.weight\", \"decoder.blocks.1.attn.query.bias\", \"decoder.blocks.1.attn.key.weight\", \"decoder.blocks.1.attn.value.weight\", \"decoder.blocks.1.attn.value.bias\", \"decoder.blocks.1.attn.out.weight\", \"decoder.blocks.1.attn.out.bias\", \"decoder.blocks.1.attn_ln.weight\", \"decoder.blocks.1.attn_ln.bias\", \"decoder.blocks.1.cross_attn.query.weight\", \"decoder.blocks.1.cross_attn.query.bias\", \"decoder.blocks.1.cross_attn.key.weight\", \"decoder.blocks.1.cross_attn.value.weight\", \"decoder.blocks.1.cross_attn.value.bias\", \"decoder.blocks.1.cross_attn.out.weight\", \"decoder.blocks.1.cross_attn.out.bias\", \"decoder.blocks.1.cross_attn_ln.weight\", \"decoder.blocks.1.cross_attn_ln.bias\", \"decoder.blocks.1.mlp.0.weight\", \"decoder.blocks.1.mlp.0.bias\", \"decoder.blocks.1.mlp.2.weight\", \"decoder.blocks.1.mlp.2.bias\", \"decoder.blocks.1.mlp_ln.weight\", \"decoder.blocks.1.mlp_ln.bias\", \"decoder.blocks.2.attn.query.weight\", \"decoder.blocks.2.attn.query.bias\", \"decoder.blocks.2.attn.key.weight\", \"decoder.blocks.2.attn.value.weight\", \"decoder.blocks.2.attn.value.bias\", \"decoder.blocks.2.attn.out.weight\", \"decoder.blocks.2.attn.out.bias\", \"decoder.blocks.2.attn_ln.weight\", \"decoder.blocks.2.attn_ln.bias\", \"decoder.blocks.2.cross_attn.query.weight\", \"decoder.blocks.2.cross_attn.query.bias\", \"decoder.blocks.2.cross_attn.key.weight\", \"decoder.blocks.2.cross_attn.value.weight\", \"decoder.blocks.2.cross_attn.value.bias\", \"decoder.blocks.2.cross_attn.out.weight\", \"decoder.blocks.2.cross_attn.out.bias\", \"decoder.blocks.2.cross_attn_ln.weight\", \"decoder.blocks.2.cross_attn_ln.bias\", \"decoder.blocks.2.mlp.0.weight\", \"decoder.blocks.2.mlp.0.bias\", \"decoder.blocks.2.mlp.2.weight\", \"decoder.blocks.2.mlp.2.bias\", \"decoder.blocks.2.mlp_ln.weight\", \"decoder.blocks.2.mlp_ln.bias\", \"decoder.blocks.3.attn.query.weight\", \"decoder.blocks.3.attn.query.bias\", \"decoder.blocks.3.attn.key.weight\", \"decoder.blocks.3.attn.value.weight\", \"decoder.blocks.3.attn.value.bias\", \"decoder.blocks.3.attn.out.weight\", \"decoder.blocks.3.attn.out.bias\", \"decoder.blocks.3.attn_ln.weight\", \"decoder.blocks.3.attn_ln.bias\", \"decoder.blocks.3.cross_attn.query.weight\", \"decoder.blocks.3.cross_attn.query.bias\", \"decoder.blocks.3.cross_attn.key.weight\", \"decoder.blocks.3.cross_attn.value.weight\", \"decoder.blocks.3.cross_attn.value.bias\", \"decoder.blocks.3.cross_attn.out.weight\", \"decoder.blocks.3.cross_attn.out.bias\", \"decoder.blocks.3.cross_attn_ln.weight\", \"decoder.blocks.3.cross_attn_ln.bias\", \"decoder.blocks.3.mlp.0.weight\", \"decoder.blocks.3.mlp.0.bias\", \"decoder.blocks.3.mlp.2.weight\", \"decoder.blocks.3.mlp.2.bias\", \"decoder.blocks.3.mlp_ln.weight\", \"decoder.blocks.3.mlp_ln.bias\", \"decoder.blocks.4.attn.query.weight\", \"decoder.blocks.4.attn.query.bias\", \"decoder.blocks.4.attn.key.weight\", \"decoder.blocks.4.attn.value.weight\", \"decoder.blocks.4.attn.value.bias\", \"decoder.blocks.4.attn.out.weight\", \"decoder.blocks.4.attn.out.bias\", \"decoder.blocks.4.attn_ln.weight\", \"decoder.blocks.4.attn_ln.bias\", \"decoder.blocks.4.cross_attn.query.weight\", \"decoder.blocks.4.cross_attn.query.bias\", \"decoder.blocks.4.cross_attn.key.weight\", \"decoder.blocks.4.cross_attn.value.weight\", \"decoder.blocks.4.cross_attn.value.bias\", \"decoder.blocks.4.cross_attn.out.weight\", \"decoder.blocks.4.cross_attn.out.bias\", \"decoder.blocks.4.cross_attn_ln.weight\", \"decoder.blocks.4.cross_attn_ln.bias\", \"decoder.blocks.4.mlp.0.weight\", \"decoder.blocks.4.mlp.0.bias\", \"decoder.blocks.4.mlp.2.weight\", \"decoder.blocks.4.mlp.2.bias\", \"decoder.blocks.4.mlp_ln.weight\", \"decoder.blocks.4.mlp_ln.bias\", \"decoder.blocks.5.attn.query.weight\", \"decoder.blocks.5.attn.query.bias\", \"decoder.blocks.5.attn.key.weight\", \"decoder.blocks.5.attn.value.weight\", \"decoder.blocks.5.attn.value.bias\", \"decoder.blocks.5.attn.out.weight\", \"decoder.blocks.5.attn.out.bias\", \"decoder.blocks.5.attn_ln.weight\", \"decoder.blocks.5.attn_ln.bias\", \"decoder.blocks.5.cross_attn.query.weight\", \"decoder.blocks.5.cross_attn.query.bias\", \"decoder.blocks.5.cross_attn.key.weight\", \"decoder.blocks.5.cross_attn.value.weight\", \"decoder.blocks.5.cross_attn.value.bias\", \"decoder.blocks.5.cross_attn.out.weight\", \"decoder.blocks.5.cross_attn.out.bias\", \"decoder.blocks.5.cross_attn_ln.weight\", \"decoder.blocks.5.cross_attn_ln.bias\", \"decoder.blocks.5.mlp.0.weight\", \"decoder.blocks.5.mlp.0.bias\", \"decoder.blocks.5.mlp.2.weight\", \"decoder.blocks.5.mlp.2.bias\", \"decoder.blocks.5.mlp_ln.weight\", \"decoder.blocks.5.mlp_ln.bias\", \"decoder.blocks.6.attn.query.weight\", \"decoder.blocks.6.attn.query.bias\", \"decoder.blocks.6.attn.key.weight\", \"decoder.blocks.6.attn.value.weight\", \"decoder.blocks.6.attn.value.bias\", \"decoder.blocks.6.attn.out.weight\", \"decoder.blocks.6.attn.out.bias\", \"decoder.blocks.6.attn_ln.weight\", \"decoder.blocks.6.attn_ln.bias\", \"decoder.blocks.6.cross_attn.query.weight\", \"decoder.blocks.6.cross_attn.query.bias\", \"decoder.blocks.6.cross_attn.key.weight\", \"decoder.blocks.6.cross_attn.value.weight\", \"decoder.blocks.6.cross_attn.value.bias\", \"decoder.blocks.6.cross_attn.out.weight\", \"decoder.blocks.6.cross_attn.out.bias\", \"decoder.blocks.6.cross_attn_ln.weight\", \"decoder.blocks.6.cross_attn_ln.bias\", \"decoder.blocks.6.mlp.0.weight\", \"decoder.blocks.6.mlp.0.bias\", \"decoder.blocks.6.mlp.2.weight\", \"decoder.blocks.6.mlp.2.bias\", \"decoder.blocks.6.mlp_ln.weight\", \"decoder.blocks.6.mlp_ln.bias\", \"decoder.blocks.7.attn.query.weight\", \"decoder.blocks.7.attn.query.bias\", \"decoder.blocks.7.attn.key.weight\", \"decoder.blocks.7.attn.value.weight\", \"decoder.blocks.7.attn.value.bias\", \"decoder.blocks.7.attn.out.weight\", \"decoder.blocks.7.attn.out.bias\", \"decoder.blocks.7.attn_ln.weight\", \"decoder.blocks.7.attn_ln.bias\", \"decoder.blocks.7.cross_attn.query.weight\", \"decoder.blocks.7.cross_attn.query.bias\", \"decoder.blocks.7.cross_attn.key.weight\", \"decoder.blocks.7.cross_attn.value.weight\", \"decoder.blocks.7.cross_attn.value.bias\", \"decoder.blocks.7.cross_attn.out.weight\", \"decoder.blocks.7.cross_attn.out.bias\", \"decoder.blocks.7.cross_attn_ln.weight\", \"decoder.blocks.7.cross_attn_ln.bias\", \"decoder.blocks.7.mlp.0.weight\", \"decoder.blocks.7.mlp.0.bias\", \"decoder.blocks.7.mlp.2.weight\", \"decoder.blocks.7.mlp.2.bias\", \"decoder.blocks.7.mlp_ln.weight\", \"decoder.blocks.7.mlp_ln.bias\", \"decoder.blocks.8.attn.query.weight\", \"decoder.blocks.8.attn.query.bias\", \"decoder.blocks.8.attn.key.weight\", \"decoder.blocks.8.attn.value.weight\", \"decoder.blocks.8.attn.value.bias\", \"decoder.blocks.8.attn.out.weight\", \"decoder.blocks.8.attn.out.bias\", \"decoder.blocks.8.attn_ln.weight\", \"decoder.blocks.8.attn_ln.bias\", \"decoder.blocks.8.cross_attn.query.weight\", \"decoder.blocks.8.cross_attn.query.bias\", \"decoder.blocks.8.cross_attn.key.weight\", \"decoder.blocks.8.cross_attn.value.weight\", \"decoder.blocks.8.cross_attn.value.bias\", \"decoder.blocks.8.cross_attn.out.weight\", \"decoder.blocks.8.cross_attn.out.bias\", \"decoder.blocks.8.cross_attn_ln.weight\", \"decoder.blocks.8.cross_attn_ln.bias\", \"decoder.blocks.8.mlp.0.weight\", \"decoder.blocks.8.mlp.0.bias\", \"decoder.blocks.8.mlp.2.weight\", \"decoder.blocks.8.mlp.2.bias\", \"decoder.blocks.8.mlp_ln.weight\", \"decoder.blocks.8.mlp_ln.bias\", \"decoder.blocks.9.attn.query.weight\", \"decoder.blocks.9.attn.query.bias\", \"decoder.blocks.9.attn.key.weight\", \"decoder.blocks.9.attn.value.weight\", \"decoder.blocks.9.attn.value.bias\", \"decoder.blocks.9.attn.out.weight\", \"decoder.blocks.9.attn.out.bias\", \"decoder.blocks.9.attn_ln.weight\", \"decoder.blocks.9.attn_ln.bias\", \"decoder.blocks.9.cross_attn.query.weight\", \"decoder.blocks.9.cross_attn.query.bias\", \"decoder.blocks.9.cross_attn.key.weight\", \"decoder.blocks.9.cross_attn.value.weight\", \"decoder.blocks.9.cross_attn.value.bias\", \"decoder.blocks.9.cross_attn.out.weight\", \"decoder.blocks.9.cross_attn.out.bias\", \"decoder.blocks.9.cross_attn_ln.weight\", \"decoder.blocks.9.cross_attn_ln.bias\", \"decoder.blocks.9.mlp.0.weight\", \"decoder.blocks.9.mlp.0.bias\", \"decoder.blocks.9.mlp.2.weight\", \"decoder.blocks.9.mlp.2.bias\", \"decoder.blocks.9.mlp_ln.weight\", \"decoder.blocks.9.mlp_ln.bias\", \"decoder.blocks.10.attn.query.weight\", \"decoder.blocks.10.attn.query.bias\", \"decoder.blocks.10.attn.key.weight\", \"decoder.blocks.10.attn.value.weight\", \"decoder.blocks.10.attn.value.bias\", \"decoder.blocks.10.attn.out.weight\", \"decoder.blocks.10.attn.out.bias\", \"decoder.blocks.10.attn_ln.weight\", \"decoder.blocks.10.attn_ln.bias\", \"decoder.blocks.10.cross_attn.query.weight\", \"decoder.blocks.10.cross_attn.query.bias\", \"decoder.blocks.10.cross_attn.key.weight\", \"decoder.blocks.10.cross_attn.value.weight\", \"decoder.blocks.10.cross_attn.value.bias\", \"decoder.blocks.10.cross_attn.out.weight\", \"decoder.blocks.10.cross_attn.out.bias\", \"decoder.blocks.10.cross_attn_ln.weight\", \"decoder.blocks.10.cross_attn_ln.bias\", \"decoder.blocks.10.mlp.0.weight\", \"decoder.blocks.10.mlp.0.bias\", \"decoder.blocks.10.mlp.2.weight\", \"decoder.blocks.10.mlp.2.bias\", \"decoder.blocks.10.mlp_ln.weight\", \"decoder.blocks.10.mlp_ln.bias\", \"decoder.blocks.11.attn.query.weight\", \"decoder.blocks.11.attn.query.bias\", \"decoder.blocks.11.attn.key.weight\", \"decoder.blocks.11.attn.value.weight\", \"decoder.blocks.11.attn.value.bias\", \"decoder.blocks.11.attn.out.weight\", \"decoder.blocks.11.attn.out.bias\", \"decoder.blocks.11.attn_ln.weight\", \"decoder.blocks.11.attn_ln.bias\", \"decoder.blocks.11.cross_attn.query.weight\", \"decoder.blocks.11.cross_attn.query.bias\", \"decoder.blocks.11.cross_attn.key.weight\", \"decoder.blocks.11.cross_attn.value.weight\", \"decoder.blocks.11.cross_attn.value.bias\", \"decoder.blocks.11.cross_attn.out.weight\", \"decoder.blocks.11.cross_attn.out.bias\", \"decoder.blocks.11.cross_attn_ln.weight\", \"decoder.blocks.11.cross_attn_ln.bias\", \"decoder.blocks.11.mlp.0.weight\", \"decoder.blocks.11.mlp.0.bias\", \"decoder.blocks.11.mlp.2.weight\", \"decoder.blocks.11.mlp.2.bias\", \"decoder.blocks.11.mlp_ln.weight\", \"decoder.blocks.11.mlp_ln.bias\", \"decoder.ln.weight\", \"decoder.ln.bias\". \n\tUnexpected key(s) in state_dict: \"module.encoder.positional_embedding\", \"module.encoder.conv1.weight\", \"module.encoder.conv1.bias\", \"module.encoder.conv2.weight\", \"module.encoder.conv2.bias\", \"module.encoder.blocks.0.attn.query.weight\", \"module.encoder.blocks.0.attn.query.bias\", \"module.encoder.blocks.0.attn.key.weight\", \"module.encoder.blocks.0.attn.value.weight\", \"module.encoder.blocks.0.attn.value.bias\", \"module.encoder.blocks.0.attn.out.weight\", \"module.encoder.blocks.0.attn.out.bias\", \"module.encoder.blocks.0.attn_ln.weight\", \"module.encoder.blocks.0.attn_ln.bias\", \"module.encoder.blocks.0.mlp.0.weight\", \"module.encoder.blocks.0.mlp.0.bias\", \"module.encoder.blocks.0.mlp.2.weight\", \"module.encoder.blocks.0.mlp.2.bias\", \"module.encoder.blocks.0.mlp_ln.weight\", \"module.encoder.blocks.0.mlp_ln.bias\", \"module.encoder.blocks.1.attn.query.weight\", \"module.encoder.blocks.1.attn.query.bias\", \"module.encoder.blocks.1.attn.key.weight\", \"module.encoder.blocks.1.attn.value.weight\", \"module.encoder.blocks.1.attn.value.bias\", \"module.encoder.blocks.1.attn.out.weight\", \"module.encoder.blocks.1.attn.out.bias\", \"module.encoder.blocks.1.attn_ln.weight\", \"module.encoder.blocks.1.attn_ln.bias\", \"module.encoder.blocks.1.mlp.0.weight\", \"module.encoder.blocks.1.mlp.0.bias\", \"module.encoder.blocks.1.mlp.2.weight\", \"module.encoder.blocks.1.mlp.2.bias\", \"module.encoder.blocks.1.mlp_ln.weight\", \"module.encoder.blocks.1.mlp_ln.bias\", \"module.encoder.blocks.2.attn.query.weight\", \"module.encoder.blocks.2.attn.query.bias\", \"module.encoder.blocks.2.attn.key.weight\", \"module.encoder.blocks.2.attn.value.weight\", \"module.encoder.blocks.2.attn.value.bias\", \"module.encoder.blocks.2.attn.out.weight\", \"module.encoder.blocks.2.attn.out.bias\", \"module.encoder.blocks.2.attn_ln.weight\", \"module.encoder.blocks.2.attn_ln.bias\", \"module.encoder.blocks.2.mlp.0.weight\", \"module.encoder.blocks.2.mlp.0.bias\", \"module.encoder.blocks.2.mlp.2.weight\", \"module.encoder.blocks.2.mlp.2.bias\", \"module.encoder.blocks.2.mlp_ln.weight\", \"module.encoder.blocks.2.mlp_ln.bias\", \"module.encoder.blocks.3.attn.query.weight\", \"module.encoder.blocks.3.attn.query.bias\", \"module.encoder.blocks.3.attn.key.weight\", \"module.encoder.blocks.3.attn.value.weight\", \"module.encoder.blocks.3.attn.value.bias\", \"module.encoder.blocks.3.attn.out.weight\", \"module.encoder.blocks.3.attn.out.bias\", \"module.encoder.blocks.3.attn_ln.weight\", \"module.encoder.blocks.3.attn_ln.bias\", \"module.encoder.blocks.3.mlp.0.weight\", \"module.encoder.blocks.3.mlp.0.bias\", \"module.encoder.blocks.3.mlp.2.weight\", \"module.encoder.blocks.3.mlp.2.bias\", \"module.encoder.blocks.3.mlp_ln.weight\", \"module.encoder.blocks.3.mlp_ln.bias\", \"module.encoder.blocks.4.attn.query.weight\", \"module.encoder.blocks.4.attn.query.bias\", \"module.encoder.blocks.4.attn.key.weight\", \"module.encoder.blocks.4.attn.value.weight\", \"module.encoder.blocks.4.attn.value.bias\", \"module.encoder.blocks.4.attn.out.weight\", \"module.encoder.blocks.4.attn.out.bias\", \"module.encoder.blocks.4.attn_ln.weight\", \"module.encoder.blocks.4.attn_ln.bias\", \"module.encoder.blocks.4.mlp.0.weight\", \"module.encoder.blocks.4.mlp.0.bias\", \"module.encoder.blocks.4.mlp.2.weight\", \"module.encoder.blocks.4.mlp.2.bias\", \"module.encoder.blocks.4.mlp_ln.weight\", \"module.encoder.blocks.4.mlp_ln.bias\", \"module.encoder.blocks.5.attn.query.weight\", \"module.encoder.blocks.5.attn.query.bias\", \"module.encoder.blocks.5.attn.key.weight\", \"module.encoder.blocks.5.attn.value.weight\", \"module.encoder.blocks.5.attn.value.bias\", \"module.encoder.blocks.5.attn.out.weight\", \"module.encoder.blocks.5.attn.out.bias\", \"module.encoder.blocks.5.attn_ln.weight\", \"module.encoder.blocks.5.attn_ln.bias\", \"module.encoder.blocks.5.mlp.0.weight\", \"module.encoder.blocks.5.mlp.0.bias\", \"module.encoder.blocks.5.mlp.2.weight\", \"module.encoder.blocks.5.mlp.2.bias\", \"module.encoder.blocks.5.mlp_ln.weight\", \"module.encoder.blocks.5.mlp_ln.bias\", \"module.encoder.blocks.6.attn.query.weight\", \"module.encoder.blocks.6.attn.query.bias\", \"module.encoder.blocks.6.attn.key.weight\", \"module.encoder.blocks.6.attn.value.weight\", \"module.encoder.blocks.6.attn.value.bias\", \"module.encoder.blocks.6.attn.out.weight\", \"module.encoder.blocks.6.attn.out.bias\", \"module.encoder.blocks.6.attn_ln.weight\", \"module.encoder.blocks.6.attn_ln.bias\", \"module.encoder.blocks.6.mlp.0.weight\", \"module.encoder.blocks.6.mlp.0.bias\", \"module.encoder.blocks.6.mlp.2.weight\", \"module.encoder.blocks.6.mlp.2.bias\", \"module.encoder.blocks.6.mlp_ln.weight\", \"module.encoder.blocks.6.mlp_ln.bias\", \"module.encoder.blocks.7.attn.query.weight\", \"module.encoder.blocks.7.attn.query.bias\", \"module.encoder.blocks.7.attn.key.weight\", \"module.encoder.blocks.7.attn.value.weight\", \"module.encoder.blocks.7.attn.value.bias\", \"module.encoder.blocks.7.attn.out.weight\", \"module.encoder.blocks.7.attn.out.bias\", \"module.encoder.blocks.7.attn_ln.weight\", \"module.encoder.blocks.7.attn_ln.bias\", \"module.encoder.blocks.7.mlp.0.weight\", \"module.encoder.blocks.7.mlp.0.bias\", \"module.encoder.blocks.7.mlp.2.weight\", \"module.encoder.blocks.7.mlp.2.bias\", \"module.encoder.blocks.7.mlp_ln.weight\", \"module.encoder.blocks.7.mlp_ln.bias\", \"module.encoder.blocks.8.attn.query.weight\", \"module.encoder.blocks.8.attn.query.bias\", \"module.encoder.blocks.8.attn.key.weight\", \"module.encoder.blocks.8.attn.value.weight\", \"module.encoder.blocks.8.attn.value.bias\", \"module.encoder.blocks.8.attn.out.weight\", \"module.encoder.blocks.8.attn.out.bias\", \"module.encoder.blocks.8.attn_ln.weight\", \"module.encoder.blocks.8.attn_ln.bias\", \"module.encoder.blocks.8.mlp.0.weight\", \"module.encoder.blocks.8.mlp.0.bias\", \"module.encoder.blocks.8.mlp.2.weight\", \"module.encoder.blocks.8.mlp.2.bias\", \"module.encoder.blocks.8.mlp_ln.weight\", \"module.encoder.blocks.8.mlp_ln.bias\", \"module.encoder.blocks.9.attn.query.weight\", \"module.encoder.blocks.9.attn.query.bias\", \"module.encoder.blocks.9.attn.key.weight\", \"module.encoder.blocks.9.attn.value.weight\", \"module.encoder.blocks.9.attn.value.bias\", \"module.encoder.blocks.9.attn.out.weight\", \"module.encoder.blocks.9.attn.out.bias\", \"module.encoder.blocks.9.attn_ln.weight\", \"module.encoder.blocks.9.attn_ln.bias\", \"module.encoder.blocks.9.mlp.0.weight\", \"module.encoder.blocks.9.mlp.0.bias\", \"module.encoder.blocks.9.mlp.2.weight\", \"module.encoder.blocks.9.mlp.2.bias\", \"module.encoder.blocks.9.mlp_ln.weight\", \"module.encoder.blocks.9.mlp_ln.bias\", \"module.encoder.blocks.10.attn.query.weight\", \"module.encoder.blocks.10.attn.query.bias\", \"module.encoder.blocks.10.attn.key.weight\", \"module.encoder.blocks.10.attn.value.weight\", \"module.encoder.blocks.10.attn.value.bias\", \"module.encoder.blocks.10.attn.out.weight\", \"module.encoder.blocks.10.attn.out.bias\", \"module.encoder.blocks.10.attn_ln.weight\", \"module.encoder.blocks.10.attn_ln.bias\", \"module.encoder.blocks.10.mlp.0.weight\", \"module.encoder.blocks.10.mlp.0.bias\", \"module.encoder.blocks.10.mlp.2.weight\", \"module.encoder.blocks.10.mlp.2.bias\", \"module.encoder.blocks.10.mlp_ln.weight\", \"module.encoder.blocks.10.mlp_ln.bias\", \"module.encoder.blocks.11.attn.query.weight\", \"module.encoder.blocks.11.attn.query.bias\", \"module.encoder.blocks.11.attn.key.weight\", \"module.encoder.blocks.11.attn.value.weight\", \"module.encoder.blocks.11.attn.value.bias\", \"module.encoder.blocks.11.attn.out.weight\", \"module.encoder.blocks.11.attn.out.bias\", \"module.encoder.blocks.11.attn_ln.weight\", \"module.encoder.blocks.11.attn_ln.bias\", \"module.encoder.blocks.11.mlp.0.weight\", \"module.encoder.blocks.11.mlp.0.bias\", \"module.encoder.blocks.11.mlp.2.weight\", \"module.encoder.blocks.11.mlp.2.bias\", \"module.encoder.blocks.11.mlp_ln.weight\", \"module.encoder.blocks.11.mlp_ln.bias\", \"module.encoder.ln_post.weight\", \"module.encoder.ln_post.bias\", \"module.decoder.positional_embedding\", \"module.decoder.token_embedding.weight\", \"module.decoder.blocks.0.attn.query.weight\", \"module.decoder.blocks.0.attn.query.bias\", \"module.decoder.blocks.0.attn.key.weight\", \"module.decoder.blocks.0.attn.value.weight\", \"module.decoder.blocks.0.attn.value.bias\", \"module.decoder.blocks.0.attn.out.weight\", \"module.decoder.blocks.0.attn.out.bias\", \"module.decoder.blocks.0.attn_ln.weight\", \"module.decoder.blocks.0.attn_ln.bias\", \"module.decoder.blocks.0.cross_attn.query.weight\", \"module.decoder.blocks.0.cross_attn.query.bias\", \"module.decoder.blocks.0.cross_attn.key.weight\", \"module.decoder.blocks.0.cross_attn.value.weight\", \"module.decoder.blocks.0.cross_attn.value.bias\", \"module.decoder.blocks.0.cross_attn.out.weight\", \"module.decoder.blocks.0.cross_attn.out.bias\", \"module.decoder.blocks.0.cross_attn_ln.weight\", \"module.decoder.blocks.0.cross_attn_ln.bias\", \"module.decoder.blocks.0.mlp.0.weight\", \"module.decoder.blocks.0.mlp.0.bias\", \"module.decoder.blocks.0.mlp.2.weight\", \"module.decoder.blocks.0.mlp.2.bias\", \"module.decoder.blocks.0.mlp_ln.weight\", \"module.decoder.blocks.0.mlp_ln.bias\", \"module.decoder.blocks.1.attn.query.weight\", \"module.decoder.blocks.1.attn.query.bias\", \"module.decoder.blocks.1.attn.key.weight\", \"module.decoder.blocks.1.attn.value.weight\", \"module.decoder.blocks.1.attn.value.bias\", \"module.decoder.blocks.1.attn.out.weight\", \"module.decoder.blocks.1.attn.out.bias\", \"module.decoder.blocks.1.attn_ln.weight\", \"module.decoder.blocks.1.attn_ln.bias\", \"module.decoder.blocks.1.cross_attn.query.weight\", \"module.decoder.blocks.1.cross_attn.query.bias\", \"module.decoder.blocks.1.cross_attn.key.weight\", \"module.decoder.blocks.1.cross_attn.value.weight\", \"module.decoder.blocks.1.cross_attn.value.bias\", \"module.decoder.blocks.1.cross_attn.out.weight\", \"module.decoder.blocks.1.cross_attn.out.bias\", \"module.decoder.blocks.1.cross_attn_ln.weight\", \"module.decoder.blocks.1.cross_attn_ln.bias\", \"module.decoder.blocks.1.mlp.0.weight\", \"module.decoder.blocks.1.mlp.0.bias\", \"module.decoder.blocks.1.mlp.2.weight\", \"module.decoder.blocks.1.mlp.2.bias\", \"module.decoder.blocks.1.mlp_ln.weight\", \"module.decoder.blocks.1.mlp_ln.bias\", \"module.decoder.blocks.2.attn.query.weight\", \"module.decoder.blocks.2.attn.query.bias\", \"module.decoder.blocks.2.attn.key.weight\", \"module.decoder.blocks.2.attn.value.weight\", \"module.decoder.blocks.2.attn.value.bias\", \"module.decoder.blocks.2.attn.out.weight\", \"module.decoder.blocks.2.attn.out.bias\", \"module.decoder.blocks.2.attn_ln.weight\", \"module.decoder.blocks.2.attn_ln.bias\", \"module.decoder.blocks.2.cross_attn.query.weight\", \"module.decoder.blocks.2.cross_attn.query.bias\", \"module.decoder.blocks.2.cross_attn.key.weight\", \"module.decoder.blocks.2.cross_attn.value.weight\", \"module.decoder.blocks.2.cross_attn.value.bias\", \"module.decoder.blocks.2.cross_attn.out.weight\", \"module.decoder.blocks.2.cross_attn.out.bias\", \"module.decoder.blocks.2.cross_attn_ln.weight\", \"module.decoder.blocks.2.cross_attn_ln.bias\", \"module.decoder.blocks.2.mlp.0.weight\", \"module.decoder.blocks.2.mlp.0.bias\", \"module.decoder.blocks.2.mlp.2.weight\", \"module.decoder.blocks.2.mlp.2.bias\", \"module.decoder.blocks.2.mlp_ln.weight\", \"module.decoder.blocks.2.mlp_ln.bias\", \"module.decoder.blocks.3.attn.query.weight\", \"module.decoder.blocks.3.attn.query.bias\", \"module.decoder.blocks.3.attn.key.weight\", \"module.decoder.blocks.3.attn.value.weight\", \"module.decoder.blocks.3.attn.value.bias\", \"module.decoder.blocks.3.attn.out.weight\", \"module.decoder.blocks.3.attn.out.bias\", \"module.decoder.blocks.3.attn_ln.weight\", \"module.decoder.blocks.3.attn_ln.bias\", \"module.decoder.blocks.3.cross_attn.query.weight\", \"module.decoder.blocks.3.cross_attn.query.bias\", \"module.decoder.blocks.3.cross_attn.key.weight\", \"module.decoder.blocks.3.cross_attn.value.weight\", \"module.decoder.blocks.3.cross_attn.value.bias\", \"module.decoder.blocks.3.cross_attn.out.weight\", \"module.decoder.blocks.3.cross_attn.out.bias\", \"module.decoder.blocks.3.cross_attn_ln.weight\", \"module.decoder.blocks.3.cross_attn_ln.bias\", \"module.decoder.blocks.3.mlp.0.weight\", \"module.decoder.blocks.3.mlp.0.bias\", \"module.decoder.blocks.3.mlp.2.weight\", \"module.decoder.blocks.3.mlp.2.bias\", \"module.decoder.blocks.3.mlp_ln.weight\", \"module.decoder.blocks.3.mlp_ln.bias\", \"module.decoder.blocks.4.attn.query.weight\", \"module.decoder.blocks.4.attn.query.bias\", \"module.decoder.blocks.4.attn.key.weight\", \"module.decoder.blocks.4.attn.value.weight\", \"module.decoder.blocks.4.attn.value.bias\", \"module.decoder.blocks.4.attn.out.weight\", \"module.decoder.blocks.4.attn.out.bias\", \"module.decoder.blocks.4.attn_ln.weight\", \"module.decoder.blocks.4.attn_ln.bias\", \"module.decoder.blocks.4.cross_attn.query.weight\", \"module.decoder.blocks.4.cross_attn.query.bias\", \"module.decoder.blocks.4.cross_attn.key.weight\", \"module.decoder.blocks.4.cross_attn.value.weight\", \"module.decoder.blocks.4.cross_attn.value.bias\", \"module.decoder.blocks.4.cross_attn.out.weight\", \"module.decoder.blocks.4.cross_attn.out.bias\", \"module.decoder.blocks.4.cross_attn_ln.weight\", \"module.decoder.blocks.4.cross_attn_ln.bias\", \"module.decoder.blocks.4.mlp.0.weight\", \"module.decoder.blocks.4.mlp.0.bias\", \"module.decoder.blocks.4.mlp.2.weight\", \"module.decoder.blocks.4.mlp.2.bias\", \"module.decoder.blocks.4.mlp_ln.weight\", \"module.decoder.blocks.4.mlp_ln.bias\", \"module.decoder.blocks.5.attn.query.weight\", \"module.decoder.blocks.5.attn.query.bias\", \"module.decoder.blocks.5.attn.key.weight\", \"module.decoder.blocks.5.attn.value.weight\", \"module.decoder.blocks.5.attn.value.bias\", \"module.decoder.blocks.5.attn.out.weight\", \"module.decoder.blocks.5.attn.out.bias\", \"module.decoder.blocks.5.attn_ln.weight\", \"module.decoder.blocks.5.attn_ln.bias\", \"module.decoder.blocks.5.cross_attn.query.weight\", \"module.decoder.blocks.5.cross_attn.query.bias\", \"module.decoder.blocks.5.cross_attn.key.weight\", \"module.decoder.blocks.5.cross_attn.value.weight\", \"module.decoder.blocks.5.cross_attn.value.bias\", \"module.decoder.blocks.5.cross_attn.out.weight\", \"module.decoder.blocks.5.cross_attn.out.bias\", \"module.decoder.blocks.5.cross_attn_ln.weight\", \"module.decoder.blocks.5.cross_attn_ln.bias\", \"module.decoder.blocks.5.mlp.0.weight\", \"module.decoder.blocks.5.mlp.0.bias\", \"module.decoder.blocks.5.mlp.2.weight\", \"module.decoder.blocks.5.mlp.2.bias\", \"module.decoder.blocks.5.mlp_ln.weight\", \"module.decoder.blocks.5.mlp_ln.bias\", \"module.decoder.blocks.6.attn.query.weight\", \"module.decoder.blocks.6.attn.query.bias\", \"module.decoder.blocks.6.attn.key.weight\", \"module.decoder.blocks.6.attn.value.weight\", \"module.decoder.blocks.6.attn.value.bias\", \"module.decoder.blocks.6.attn.out.weight\", \"module.decoder.blocks.6.attn.out.bias\", \"module.decoder.blocks.6.attn_ln.weight\", \"module.decoder.blocks.6.attn_ln.bias\", \"module.decoder.blocks.6.cross_attn.query.weight\", \"module.decoder.blocks.6.cross_attn.query.bias\", \"module.decoder.blocks.6.cross_attn.key.weight\", \"module.decoder.blocks.6.cross_attn.value.weight\", \"module.decoder.blocks.6.cross_attn.value.bias\", \"module.decoder.blocks.6.cross_attn.out.weight\", \"module.decoder.blocks.6.cross_attn.out.bias\", \"module.decoder.blocks.6.cross_attn_ln.weight\", \"module.decoder.blocks.6.cross_attn_ln.bias\", \"module.decoder.blocks.6.mlp.0.weight\", \"module.decoder.blocks.6.mlp.0.bias\", \"module.decoder.blocks.6.mlp.2.weight\", \"module.decoder.blocks.6.mlp.2.bias\", \"module.decoder.blocks.6.mlp_ln.weight\", \"module.decoder.blocks.6.mlp_ln.bias\", \"module.decoder.blocks.7.attn.query.weight\", \"module.decoder.blocks.7.attn.query.bias\", \"module.decoder.blocks.7.attn.key.weight\", \"module.decoder.blocks.7.attn.value.weight\", \"module.decoder.blocks.7.attn.value.bias\", \"module.decoder.blocks.7.attn.out.weight\", \"module.decoder.blocks.7.attn.out.bias\", \"module.decoder.blocks.7.attn_ln.weight\", \"module.decoder.blocks.7.attn_ln.bias\", \"module.decoder.blocks.7.cross_attn.query.weight\", \"module.decoder.blocks.7.cross_attn.query.bias\", \"module.decoder.blocks.7.cross_attn.key.weight\", \"module.decoder.blocks.7.cross_attn.value.weight\", \"module.decoder.blocks.7.cross_attn.value.bias\", \"module.decoder.blocks.7.cross_attn.out.weight\", \"module.decoder.blocks.7.cross_attn.out.bias\", \"module.decoder.blocks.7.cross_attn_ln.weight\", \"module.decoder.blocks.7.cross_attn_ln.bias\", \"module.decoder.blocks.7.mlp.0.weight\", \"module.decoder.blocks.7.mlp.0.bias\", \"module.decoder.blocks.7.mlp.2.weight\", \"module.decoder.blocks.7.mlp.2.bias\", \"module.decoder.blocks.7.mlp_ln.weight\", \"module.decoder.blocks.7.mlp_ln.bias\", \"module.decoder.blocks.8.attn.query.weight\", \"module.decoder.blocks.8.attn.query.bias\", \"module.decoder.blocks.8.attn.key.weight\", \"module.decoder.blocks.8.attn.value.weight\", \"module.decoder.blocks.8.attn.value.bias\", \"module.decoder.blocks.8.attn.out.weight\", \"module.decoder.blocks.8.attn.out.bias\", \"module.decoder.blocks.8.attn_ln.weight\", \"module.decoder.blocks.8.attn_ln.bias\", \"module.decoder.blocks.8.cross_attn.query.weight\", \"module.decoder.blocks.8.cross_attn.query.bias\", \"module.decoder.blocks.8.cross_attn.key.weight\", \"module.decoder.blocks.8.cross_attn.value.weight\", \"module.decoder.blocks.8.cross_attn.value.bias\", \"module.decoder.blocks.8.cross_attn.out.weight\", \"module.decoder.blocks.8.cross_attn.out.bias\", \"module.decoder.blocks.8.cross_attn_ln.weight\", \"module.decoder.blocks.8.cross_attn_ln.bias\", \"module.decoder.blocks.8.mlp.0.weight\", \"module.decoder.blocks.8.mlp.0.bias\", \"module.decoder.blocks.8.mlp.2.weight\", \"module.decoder.blocks.8.mlp.2.bias\", \"module.decoder.blocks.8.mlp_ln.weight\", \"module.decoder.blocks.8.mlp_ln.bias\", \"module.decoder.blocks.9.attn.query.weight\", \"module.decoder.blocks.9.attn.query.bias\", \"module.decoder.blocks.9.attn.key.weight\", \"module.decoder.blocks.9.attn.value.weight\", \"module.decoder.blocks.9.attn.value.bias\", \"module.decoder.blocks.9.attn.out.weight\", \"module.decoder.blocks.9.attn.out.bias\", \"module.decoder.blocks.9.attn_ln.weight\", \"module.decoder.blocks.9.attn_ln.bias\", \"module.decoder.blocks.9.cross_attn.query.weight\", \"module.decoder.blocks.9.cross_attn.query.bias\", \"module.decoder.blocks.9.cross_attn.key.weight\", \"module.decoder.blocks.9.cross_attn.value.weight\", \"module.decoder.blocks.9.cross_attn.value.bias\", \"module.decoder.blocks.9.cross_attn.out.weight\", \"module.decoder.blocks.9.cross_attn.out.bias\", \"module.decoder.blocks.9.cross_attn_ln.weight\", \"module.decoder.blocks.9.cross_attn_ln.bias\", \"module.decoder.blocks.9.mlp.0.weight\", \"module.decoder.blocks.9.mlp.0.bias\", \"module.decoder.blocks.9.mlp.2.weight\", \"module.decoder.blocks.9.mlp.2.bias\", \"module.decoder.blocks.9.mlp_ln.weight\", \"module.decoder.blocks.9.mlp_ln.bias\", \"module.decoder.blocks.10.attn.query.weight\", \"module.decoder.blocks.10.attn.query.bias\", \"module.decoder.blocks.10.attn.key.weight\", \"module.decoder.blocks.10.attn.value.weight\", \"module.decoder.blocks.10.attn.value.bias\", \"module.decoder.blocks.10.attn.out.weight\", \"module.decoder.blocks.10.attn.out.bias\", \"module.decoder.blocks.10.attn_ln.weight\", \"module.decoder.blocks.10.attn_ln.bias\", \"module.decoder.blocks.10.cross_attn.query.weight\", \"module.decoder.blocks.10.cross_attn.query.bias\", \"module.decoder.blocks.10.cross_attn.key.weight\", \"module.decoder.blocks.10.cross_attn.value.weight\", \"module.decoder.blocks.10.cross_attn.value.bias\", \"module.decoder.blocks.10.cross_attn.out.weight\", \"module.decoder.blocks.10.cross_attn.out.bias\", \"module.decoder.blocks.10.cross_attn_ln.weight\", \"module.decoder.blocks.10.cross_attn_ln.bias\", \"module.decoder.blocks.10.mlp.0.weight\", \"module.decoder.blocks.10.mlp.0.bias\", \"module.decoder.blocks.10.mlp.2.weight\", \"module.decoder.blocks.10.mlp.2.bias\", \"module.decoder.blocks.10.mlp_ln.weight\", \"module.decoder.blocks.10.mlp_ln.bias\", \"module.decoder.blocks.11.attn.query.weight\", \"module.decoder.blocks.11.attn.query.bias\", \"module.decoder.blocks.11.attn.key.weight\", \"module.decoder.blocks.11.attn.value.weight\", \"module.decoder.blocks.11.attn.value.bias\", \"module.decoder.blocks.11.attn.out.weight\", \"module.decoder.blocks.11.attn.out.bias\", \"module.decoder.blocks.11.attn_ln.weight\", \"module.decoder.blocks.11.attn_ln.bias\", \"module.decoder.blocks.11.cross_attn.query.weight\", \"module.decoder.blocks.11.cross_attn.query.bias\", \"module.decoder.blocks.11.cross_attn.key.weight\", \"module.decoder.blocks.11.cross_attn.value.weight\", \"module.decoder.blocks.11.cross_attn.value.bias\", \"module.decoder.blocks.11.cross_attn.out.weight\", \"module.decoder.blocks.11.cross_attn.out.bias\", \"module.decoder.blocks.11.cross_attn_ln.weight\", \"module.decoder.blocks.11.cross_attn_ln.bias\", \"module.decoder.blocks.11.mlp.0.weight\", \"module.decoder.blocks.11.mlp.0.bias\", \"module.decoder.blocks.11.mlp.2.weight\", \"module.decoder.blocks.11.mlp.2.bias\", \"module.decoder.blocks.11.mlp_ln.weight\", \"module.decoder.blocks.11.mlp_ln.bias\", \"module.decoder.ln.weight\", \"module.decoder.ln.bias\". ",
     "output_type": "error",
     "traceback": [
      "\u001b[0;31m---------------------------------------------------------------------------\u001b[0m",
      "\u001b[0;31mRuntimeError\u001b[0m                              Traceback (most recent call last)",
      "Cell \u001b[0;32mIn[3], line 1\u001b[0m\n\u001b[0;32m----> 1\u001b[0m model_finetune \u001b[39m=\u001b[39m load_model(\u001b[39m'\u001b[39;49m\u001b[39msmall\u001b[39;49m\u001b[39m'\u001b[39;49m, model_path\u001b[39m=\u001b[39;49m\u001b[39m\"\u001b[39;49m\u001b[39mexperiments/small_bs_12_epoch_12/ckpt_epoch_best_epoch_iter_.pt\u001b[39;49m\u001b[39m\"\u001b[39;49m)\n",
      "File \u001b[0;32m~/golos/whisper_fine_tuning/dataset_creation/src/utils_model.py:24\u001b[0m, in \u001b[0;36mload_model\u001b[0;34m(model_size, model_path)\u001b[0m\n\u001b[1;32m     22\u001b[0m     \u001b[39melse\u001b[39;00m:\n\u001b[1;32m     23\u001b[0m         params \u001b[39m=\u001b[39m torch\u001b[39m.\u001b[39mload(model_path)\n\u001b[0;32m---> 24\u001b[0m     model\u001b[39m.\u001b[39;49mload_state_dict(params)\n\u001b[1;32m     26\u001b[0m \u001b[39mreturn\u001b[39;00m model\n",
      "File \u001b[0;32m~/golos/golos_dev/lib/python3.10/site-packages/torch/nn/modules/module.py:2041\u001b[0m, in \u001b[0;36mModule.load_state_dict\u001b[0;34m(self, state_dict, strict)\u001b[0m\n\u001b[1;32m   2036\u001b[0m         error_msgs\u001b[39m.\u001b[39minsert(\n\u001b[1;32m   2037\u001b[0m             \u001b[39m0\u001b[39m, \u001b[39m'\u001b[39m\u001b[39mMissing key(s) in state_dict: \u001b[39m\u001b[39m{}\u001b[39;00m\u001b[39m. \u001b[39m\u001b[39m'\u001b[39m\u001b[39m.\u001b[39mformat(\n\u001b[1;32m   2038\u001b[0m                 \u001b[39m'\u001b[39m\u001b[39m, \u001b[39m\u001b[39m'\u001b[39m\u001b[39m.\u001b[39mjoin(\u001b[39m'\u001b[39m\u001b[39m\"\u001b[39m\u001b[39m{}\u001b[39;00m\u001b[39m\"\u001b[39m\u001b[39m'\u001b[39m\u001b[39m.\u001b[39mformat(k) \u001b[39mfor\u001b[39;00m k \u001b[39min\u001b[39;00m missing_keys)))\n\u001b[1;32m   2040\u001b[0m \u001b[39mif\u001b[39;00m \u001b[39mlen\u001b[39m(error_msgs) \u001b[39m>\u001b[39m \u001b[39m0\u001b[39m:\n\u001b[0;32m-> 2041\u001b[0m     \u001b[39mraise\u001b[39;00m \u001b[39mRuntimeError\u001b[39;00m(\u001b[39m'\u001b[39m\u001b[39mError(s) in loading state_dict for \u001b[39m\u001b[39m{}\u001b[39;00m\u001b[39m:\u001b[39m\u001b[39m\\n\u001b[39;00m\u001b[39m\\t\u001b[39;00m\u001b[39m{}\u001b[39;00m\u001b[39m'\u001b[39m\u001b[39m.\u001b[39mformat(\n\u001b[1;32m   2042\u001b[0m                        \u001b[39mself\u001b[39m\u001b[39m.\u001b[39m\u001b[39m__class__\u001b[39m\u001b[39m.\u001b[39m\u001b[39m__name__\u001b[39m, \u001b[39m\"\u001b[39m\u001b[39m\\n\u001b[39;00m\u001b[39m\\t\u001b[39;00m\u001b[39m\"\u001b[39m\u001b[39m.\u001b[39mjoin(error_msgs)))\n\u001b[1;32m   2043\u001b[0m \u001b[39mreturn\u001b[39;00m _IncompatibleKeys(missing_keys, unexpected_keys)\n",
      "\u001b[0;31mRuntimeError\u001b[0m: Error(s) in loading state_dict for Whisper:\n\tMissing key(s) in state_dict: \"encoder.positional_embedding\", \"encoder.conv1.weight\", \"encoder.conv1.bias\", \"encoder.conv2.weight\", \"encoder.conv2.bias\", \"encoder.blocks.0.attn.query.weight\", \"encoder.blocks.0.attn.query.bias\", \"encoder.blocks.0.attn.key.weight\", \"encoder.blocks.0.attn.value.weight\", \"encoder.blocks.0.attn.value.bias\", \"encoder.blocks.0.attn.out.weight\", \"encoder.blocks.0.attn.out.bias\", \"encoder.blocks.0.attn_ln.weight\", \"encoder.blocks.0.attn_ln.bias\", \"encoder.blocks.0.mlp.0.weight\", \"encoder.blocks.0.mlp.0.bias\", \"encoder.blocks.0.mlp.2.weight\", \"encoder.blocks.0.mlp.2.bias\", \"encoder.blocks.0.mlp_ln.weight\", \"encoder.blocks.0.mlp_ln.bias\", \"encoder.blocks.1.attn.query.weight\", \"encoder.blocks.1.attn.query.bias\", \"encoder.blocks.1.attn.key.weight\", \"encoder.blocks.1.attn.value.weight\", \"encoder.blocks.1.attn.value.bias\", \"encoder.blocks.1.attn.out.weight\", \"encoder.blocks.1.attn.out.bias\", \"encoder.blocks.1.attn_ln.weight\", \"encoder.blocks.1.attn_ln.bias\", \"encoder.blocks.1.mlp.0.weight\", \"encoder.blocks.1.mlp.0.bias\", \"encoder.blocks.1.mlp.2.weight\", \"encoder.blocks.1.mlp.2.bias\", \"encoder.blocks.1.mlp_ln.weight\", \"encoder.blocks.1.mlp_ln.bias\", \"encoder.blocks.2.attn.query.weight\", \"encoder.blocks.2.attn.query.bias\", \"encoder.blocks.2.attn.key.weight\", \"encoder.blocks.2.attn.value.weight\", \"encoder.blocks.2.attn.value.bias\", \"encoder.blocks.2.attn.out.weight\", \"encoder.blocks.2.attn.out.bias\", \"encoder.blocks.2.attn_ln.weight\", \"encoder.blocks.2.attn_ln.bias\", \"encoder.blocks.2.mlp.0.weight\", \"encoder.blocks.2.mlp.0.bias\", \"encoder.blocks.2.mlp.2.weight\", \"encoder.blocks.2.mlp.2.bias\", \"encoder.blocks.2.mlp_ln.weight\", \"encoder.blocks.2.mlp_ln.bias\", \"encoder.blocks.3.attn.query.weight\", \"encoder.blocks.3.attn.query.bias\", \"encoder.blocks.3.attn.key.weight\", \"encoder.blocks.3.attn.value.weight\", \"encoder.blocks.3.attn.value.bias\", \"encoder.blocks.3.attn.out.weight\", \"encoder.blocks.3.attn.out.bias\", \"encoder.blocks.3.attn_ln.weight\", \"encoder.blocks.3.attn_ln.bias\", \"encoder.blocks.3.mlp.0.weight\", \"encoder.blocks.3.mlp.0.bias\", \"encoder.blocks.3.mlp.2.weight\", \"encoder.blocks.3.mlp.2.bias\", \"encoder.blocks.3.mlp_ln.weight\", \"encoder.blocks.3.mlp_ln.bias\", \"encoder.blocks.4.attn.query.weight\", \"encoder.blocks.4.attn.query.bias\", \"encoder.blocks.4.attn.key.weight\", \"encoder.blocks.4.attn.value.weight\", \"encoder.blocks.4.attn.value.bias\", \"encoder.blocks.4.attn.out.weight\", \"encoder.blocks.4.attn.out.bias\", \"encoder.blocks.4.attn_ln.weight\", \"encoder.blocks.4.attn_ln.bias\", \"encoder.blocks.4.mlp.0.weight\", \"encoder.blocks.4.mlp.0.bias\", \"encoder.blocks.4.mlp.2.weight\", \"encoder.blocks.4.mlp.2.bias\", \"encoder.blocks.4.mlp_ln.weight\", \"encoder.blocks.4.mlp_ln.bias\", \"encoder.blocks.5.attn.query.weight\", \"encoder.blocks.5.attn.query.bias\", \"encoder.blocks.5.attn.key.weight\", \"encoder.blocks.5.attn.value.weight\", \"encoder.blocks.5.attn.value.bias\", \"encoder.blocks.5.attn.out.weight\", \"encoder.blocks.5.attn.out.bias\", \"encoder.blocks.5.attn_ln.weight\", \"encoder.blocks.5.attn_ln.bias\", \"encoder.blocks.5.mlp.0.weight\", \"encoder.blocks.5.mlp.0.bias\", \"encoder.blocks.5.mlp.2.weight\", \"encoder.blocks.5.mlp.2.bias\", \"encoder.blocks.5.mlp_ln.weight\", \"encoder.blocks.5.mlp_ln.bias\", \"encoder.blocks.6.attn.query.weight\", \"encoder.blocks.6.attn.query.bias\", \"encoder.blocks.6.attn.key.weight\", \"encoder.blocks.6.attn.value.weight\", \"encoder.blocks.6.attn.value.bias\", \"encoder.blocks.6.attn.out.weight\", \"encoder.blocks.6.attn.out.bias\", \"encoder.blocks.6.attn_ln.weight\", \"encoder.blocks.6.attn_ln.bias\", \"encoder.blocks.6.mlp.0.weight\", \"encoder.blocks.6.mlp.0.bias\", \"encoder.blocks.6.mlp.2.weight\", \"encoder.blocks.6.mlp.2.bias\", \"encoder.blocks.6.mlp_ln.weight\", \"encoder.blocks.6.mlp_ln.bias\", \"encoder.blocks.7.attn.query.weight\", \"encoder.blocks.7.attn.query.bias\", \"encoder.blocks.7.attn.key.weight\", \"encoder.blocks.7.attn.value.weight\", \"encoder.blocks.7.attn.value.bias\", \"encoder.blocks.7.attn.out.weight\", \"encoder.blocks.7.attn.out.bias\", \"encoder.blocks.7.attn_ln.weight\", \"encoder.blocks.7.attn_ln.bias\", \"encoder.blocks.7.mlp.0.weight\", \"encoder.blocks.7.mlp.0.bias\", \"encoder.blocks.7.mlp.2.weight\", \"encoder.blocks.7.mlp.2.bias\", \"encoder.blocks.7.mlp_ln.weight\", \"encoder.blocks.7.mlp_ln.bias\", \"encoder.blocks.8.attn.query.weight\", \"encoder.blocks.8.attn.query.bias\", \"encoder.blocks.8.attn.key.weight\", \"encoder.blocks.8.attn.value.weight\", \"encoder.blocks.8.attn.value.bias\", \"encoder.blocks.8.attn.out.weight\", \"encoder.blocks.8.attn.out.bias\", \"encoder.blocks.8.attn_ln.weight\", \"encoder.blocks.8.attn_ln.bias\", \"encoder.blocks.8.mlp.0.weight\", \"encoder.blocks.8.mlp.0.bias\", \"encoder.blocks.8.mlp.2.weight\", \"encoder.blocks.8.mlp.2.bias\", \"encoder.blocks.8.mlp_ln.weight\", \"encoder.blocks.8.mlp_ln.bias\", \"encoder.blocks.9.attn.query.weight\", \"encoder.blocks.9.attn.query.bias\", \"encoder.blocks.9.attn.key.weight\", \"encoder.blocks.9.attn.value.weight\", \"encoder.blocks.9.attn.value.bias\", \"encoder.blocks.9.attn.out.weight\", \"encoder.blocks.9.attn.out.bias\", \"encoder.blocks.9.attn_ln.weight\", \"encoder.blocks.9.attn_ln.bias\", \"encoder.blocks.9.mlp.0.weight\", \"encoder.blocks.9.mlp.0.bias\", \"encoder.blocks.9.mlp.2.weight\", \"encoder.blocks.9.mlp.2.bias\", \"encoder.blocks.9.mlp_ln.weight\", \"encoder.blocks.9.mlp_ln.bias\", \"encoder.blocks.10.attn.query.weight\", \"encoder.blocks.10.attn.query.bias\", \"encoder.blocks.10.attn.key.weight\", \"encoder.blocks.10.attn.value.weight\", \"encoder.blocks.10.attn.value.bias\", \"encoder.blocks.10.attn.out.weight\", \"encoder.blocks.10.attn.out.bias\", \"encoder.blocks.10.attn_ln.weight\", \"encoder.blocks.10.attn_ln.bias\", \"encoder.blocks.10.mlp.0.weight\", \"encoder.blocks.10.mlp.0.bias\", \"encoder.blocks.10.mlp.2.weight\", \"encoder.blocks.10.mlp.2.bias\", \"encoder.blocks.10.mlp_ln.weight\", \"encoder.blocks.10.mlp_ln.bias\", \"encoder.blocks.11.attn.query.weight\", \"encoder.blocks.11.attn.query.bias\", \"encoder.blocks.11.attn.key.weight\", \"encoder.blocks.11.attn.value.weight\", \"encoder.blocks.11.attn.value.bias\", \"encoder.blocks.11.attn.out.weight\", \"encoder.blocks.11.attn.out.bias\", \"encoder.blocks.11.attn_ln.weight\", \"encoder.blocks.11.attn_ln.bias\", \"encoder.blocks.11.mlp.0.weight\", \"encoder.blocks.11.mlp.0.bias\", \"encoder.blocks.11.mlp.2.weight\", \"encoder.blocks.11.mlp.2.bias\", \"encoder.blocks.11.mlp_ln.weight\", \"encoder.blocks.11.mlp_ln.bias\", \"encoder.ln_post.weight\", \"encoder.ln_post.bias\", \"decoder.positional_embedding\", \"decoder.token_embedding.weight\", \"decoder.blocks.0.attn.query.weight\", \"decoder.blocks.0.attn.query.bias\", \"decoder.blocks.0.attn.key.weight\", \"decoder.blocks.0.attn.value.weight\", \"decoder.blocks.0.attn.value.bias\", \"decoder.blocks.0.attn.out.weight\", \"decoder.blocks.0.attn.out.bias\", \"decoder.blocks.0.attn_ln.weight\", \"decoder.blocks.0.attn_ln.bias\", \"decoder.blocks.0.cross_attn.query.weight\", \"decoder.blocks.0.cross_attn.query.bias\", \"decoder.blocks.0.cross_attn.key.weight\", \"decoder.blocks.0.cross_attn.value.weight\", \"decoder.blocks.0.cross_attn.value.bias\", \"decoder.blocks.0.cross_attn.out.weight\", \"decoder.blocks.0.cross_attn.out.bias\", \"decoder.blocks.0.cross_attn_ln.weight\", \"decoder.blocks.0.cross_attn_ln.bias\", \"decoder.blocks.0.mlp.0.weight\", \"decoder.blocks.0.mlp.0.bias\", \"decoder.blocks.0.mlp.2.weight\", \"decoder.blocks.0.mlp.2.bias\", \"decoder.blocks.0.mlp_ln.weight\", \"decoder.blocks.0.mlp_ln.bias\", \"decoder.blocks.1.attn.query.weight\", \"decoder.blocks.1.attn.query.bias\", \"decoder.blocks.1.attn.key.weight\", \"decoder.blocks.1.attn.value.weight\", \"decoder.blocks.1.attn.value.bias\", \"decoder.blocks.1.attn.out.weight\", \"decoder.blocks.1.attn.out.bias\", \"decoder.blocks.1.attn_ln.weight\", \"decoder.blocks.1.attn_ln.bias\", \"decoder.blocks.1.cross_attn.query.weight\", \"decoder.blocks.1.cross_attn.query.bias\", \"decoder.blocks.1.cross_attn.key.weight\", \"decoder.blocks.1.cross_attn.value.weight\", \"decoder.blocks.1.cross_attn.value.bias\", \"decoder.blocks.1.cross_attn.out.weight\", \"decoder.blocks.1.cross_attn.out.bias\", \"decoder.blocks.1.cross_attn_ln.weight\", \"decoder.blocks.1.cross_attn_ln.bias\", \"decoder.blocks.1.mlp.0.weight\", \"decoder.blocks.1.mlp.0.bias\", \"decoder.blocks.1.mlp.2.weight\", \"decoder.blocks.1.mlp.2.bias\", \"decoder.blocks.1.mlp_ln.weight\", \"decoder.blocks.1.mlp_ln.bias\", \"decoder.blocks.2.attn.query.weight\", \"decoder.blocks.2.attn.query.bias\", \"decoder.blocks.2.attn.key.weight\", \"decoder.blocks.2.attn.value.weight\", \"decoder.blocks.2.attn.value.bias\", \"decoder.blocks.2.attn.out.weight\", \"decoder.blocks.2.attn.out.bias\", \"decoder.blocks.2.attn_ln.weight\", \"decoder.blocks.2.attn_ln.bias\", \"decoder.blocks.2.cross_attn.query.weight\", \"decoder.blocks.2.cross_attn.query.bias\", \"decoder.blocks.2.cross_attn.key.weight\", \"decoder.blocks.2.cross_attn.value.weight\", \"decoder.blocks.2.cross_attn.value.bias\", \"decoder.blocks.2.cross_attn.out.weight\", \"decoder.blocks.2.cross_attn.out.bias\", \"decoder.blocks.2.cross_attn_ln.weight\", \"decoder.blocks.2.cross_attn_ln.bias\", \"decoder.blocks.2.mlp.0.weight\", \"decoder.blocks.2.mlp.0.bias\", \"decoder.blocks.2.mlp.2.weight\", \"decoder.blocks.2.mlp.2.bias\", \"decoder.blocks.2.mlp_ln.weight\", \"decoder.blocks.2.mlp_ln.bias\", \"decoder.blocks.3.attn.query.weight\", \"decoder.blocks.3.attn.query.bias\", \"decoder.blocks.3.attn.key.weight\", \"decoder.blocks.3.attn.value.weight\", \"decoder.blocks.3.attn.value.bias\", \"decoder.blocks.3.attn.out.weight\", \"decoder.blocks.3.attn.out.bias\", \"decoder.blocks.3.attn_ln.weight\", \"decoder.blocks.3.attn_ln.bias\", \"decoder.blocks.3.cross_attn.query.weight\", \"decoder.blocks.3.cross_attn.query.bias\", \"decoder.blocks.3.cross_attn.key.weight\", \"decoder.blocks.3.cross_attn.value.weight\", \"decoder.blocks.3.cross_attn.value.bias\", \"decoder.blocks.3.cross_attn.out.weight\", \"decoder.blocks.3.cross_attn.out.bias\", \"decoder.blocks.3.cross_attn_ln.weight\", \"decoder.blocks.3.cross_attn_ln.bias\", \"decoder.blocks.3.mlp.0.weight\", \"decoder.blocks.3.mlp.0.bias\", \"decoder.blocks.3.mlp.2.weight\", \"decoder.blocks.3.mlp.2.bias\", \"decoder.blocks.3.mlp_ln.weight\", \"decoder.blocks.3.mlp_ln.bias\", \"decoder.blocks.4.attn.query.weight\", \"decoder.blocks.4.attn.query.bias\", \"decoder.blocks.4.attn.key.weight\", \"decoder.blocks.4.attn.value.weight\", \"decoder.blocks.4.attn.value.bias\", \"decoder.blocks.4.attn.out.weight\", \"decoder.blocks.4.attn.out.bias\", \"decoder.blocks.4.attn_ln.weight\", \"decoder.blocks.4.attn_ln.bias\", \"decoder.blocks.4.cross_attn.query.weight\", \"decoder.blocks.4.cross_attn.query.bias\", \"decoder.blocks.4.cross_attn.key.weight\", \"decoder.blocks.4.cross_attn.value.weight\", \"decoder.blocks.4.cross_attn.value.bias\", \"decoder.blocks.4.cross_attn.out.weight\", \"decoder.blocks.4.cross_attn.out.bias\", \"decoder.blocks.4.cross_attn_ln.weight\", \"decoder.blocks.4.cross_attn_ln.bias\", \"decoder.blocks.4.mlp.0.weight\", \"decoder.blocks.4.mlp.0.bias\", \"decoder.blocks.4.mlp.2.weight\", \"decoder.blocks.4.mlp.2.bias\", \"decoder.blocks.4.mlp_ln.weight\", \"decoder.blocks.4.mlp_ln.bias\", \"decoder.blocks.5.attn.query.weight\", \"decoder.blocks.5.attn.query.bias\", \"decoder.blocks.5.attn.key.weight\", \"decoder.blocks.5.attn.value.weight\", \"decoder.blocks.5.attn.value.bias\", \"decoder.blocks.5.attn.out.weight\", \"decoder.blocks.5.attn.out.bias\", \"decoder.blocks.5.attn_ln.weight\", \"decoder.blocks.5.attn_ln.bias\", \"decoder.blocks.5.cross_attn.query.weight\", \"decoder.blocks.5.cross_attn.query.bias\", \"decoder.blocks.5.cross_attn.key.weight\", \"decoder.blocks.5.cross_attn.value.weight\", \"decoder.blocks.5.cross_attn.value.bias\", \"decoder.blocks.5.cross_attn.out.weight\", \"decoder.blocks.5.cross_attn.out.bias\", \"decoder.blocks.5.cross_attn_ln.weight\", \"decoder.blocks.5.cross_attn_ln.bias\", \"decoder.blocks.5.mlp.0.weight\", \"decoder.blocks.5.mlp.0.bias\", \"decoder.blocks.5.mlp.2.weight\", \"decoder.blocks.5.mlp.2.bias\", \"decoder.blocks.5.mlp_ln.weight\", \"decoder.blocks.5.mlp_ln.bias\", \"decoder.blocks.6.attn.query.weight\", \"decoder.blocks.6.attn.query.bias\", \"decoder.blocks.6.attn.key.weight\", \"decoder.blocks.6.attn.value.weight\", \"decoder.blocks.6.attn.value.bias\", \"decoder.blocks.6.attn.out.weight\", \"decoder.blocks.6.attn.out.bias\", \"decoder.blocks.6.attn_ln.weight\", \"decoder.blocks.6.attn_ln.bias\", \"decoder.blocks.6.cross_attn.query.weight\", \"decoder.blocks.6.cross_attn.query.bias\", \"decoder.blocks.6.cross_attn.key.weight\", \"decoder.blocks.6.cross_attn.value.weight\", \"decoder.blocks.6.cross_attn.value.bias\", \"decoder.blocks.6.cross_attn.out.weight\", \"decoder.blocks.6.cross_attn.out.bias\", \"decoder.blocks.6.cross_attn_ln.weight\", \"decoder.blocks.6.cross_attn_ln.bias\", \"decoder.blocks.6.mlp.0.weight\", \"decoder.blocks.6.mlp.0.bias\", \"decoder.blocks.6.mlp.2.weight\", \"decoder.blocks.6.mlp.2.bias\", \"decoder.blocks.6.mlp_ln.weight\", \"decoder.blocks.6.mlp_ln.bias\", \"decoder.blocks.7.attn.query.weight\", \"decoder.blocks.7.attn.query.bias\", \"decoder.blocks.7.attn.key.weight\", \"decoder.blocks.7.attn.value.weight\", \"decoder.blocks.7.attn.value.bias\", \"decoder.blocks.7.attn.out.weight\", \"decoder.blocks.7.attn.out.bias\", \"decoder.blocks.7.attn_ln.weight\", \"decoder.blocks.7.attn_ln.bias\", \"decoder.blocks.7.cross_attn.query.weight\", \"decoder.blocks.7.cross_attn.query.bias\", \"decoder.blocks.7.cross_attn.key.weight\", \"decoder.blocks.7.cross_attn.value.weight\", \"decoder.blocks.7.cross_attn.value.bias\", \"decoder.blocks.7.cross_attn.out.weight\", \"decoder.blocks.7.cross_attn.out.bias\", \"decoder.blocks.7.cross_attn_ln.weight\", \"decoder.blocks.7.cross_attn_ln.bias\", \"decoder.blocks.7.mlp.0.weight\", \"decoder.blocks.7.mlp.0.bias\", \"decoder.blocks.7.mlp.2.weight\", \"decoder.blocks.7.mlp.2.bias\", \"decoder.blocks.7.mlp_ln.weight\", \"decoder.blocks.7.mlp_ln.bias\", \"decoder.blocks.8.attn.query.weight\", \"decoder.blocks.8.attn.query.bias\", \"decoder.blocks.8.attn.key.weight\", \"decoder.blocks.8.attn.value.weight\", \"decoder.blocks.8.attn.value.bias\", \"decoder.blocks.8.attn.out.weight\", \"decoder.blocks.8.attn.out.bias\", \"decoder.blocks.8.attn_ln.weight\", \"decoder.blocks.8.attn_ln.bias\", \"decoder.blocks.8.cross_attn.query.weight\", \"decoder.blocks.8.cross_attn.query.bias\", \"decoder.blocks.8.cross_attn.key.weight\", \"decoder.blocks.8.cross_attn.value.weight\", \"decoder.blocks.8.cross_attn.value.bias\", \"decoder.blocks.8.cross_attn.out.weight\", \"decoder.blocks.8.cross_attn.out.bias\", \"decoder.blocks.8.cross_attn_ln.weight\", \"decoder.blocks.8.cross_attn_ln.bias\", \"decoder.blocks.8.mlp.0.weight\", \"decoder.blocks.8.mlp.0.bias\", \"decoder.blocks.8.mlp.2.weight\", \"decoder.blocks.8.mlp.2.bias\", \"decoder.blocks.8.mlp_ln.weight\", \"decoder.blocks.8.mlp_ln.bias\", \"decoder.blocks.9.attn.query.weight\", \"decoder.blocks.9.attn.query.bias\", \"decoder.blocks.9.attn.key.weight\", \"decoder.blocks.9.attn.value.weight\", \"decoder.blocks.9.attn.value.bias\", \"decoder.blocks.9.attn.out.weight\", \"decoder.blocks.9.attn.out.bias\", \"decoder.blocks.9.attn_ln.weight\", \"decoder.blocks.9.attn_ln.bias\", \"decoder.blocks.9.cross_attn.query.weight\", \"decoder.blocks.9.cross_attn.query.bias\", \"decoder.blocks.9.cross_attn.key.weight\", \"decoder.blocks.9.cross_attn.value.weight\", \"decoder.blocks.9.cross_attn.value.bias\", \"decoder.blocks.9.cross_attn.out.weight\", \"decoder.blocks.9.cross_attn.out.bias\", \"decoder.blocks.9.cross_attn_ln.weight\", \"decoder.blocks.9.cross_attn_ln.bias\", \"decoder.blocks.9.mlp.0.weight\", \"decoder.blocks.9.mlp.0.bias\", \"decoder.blocks.9.mlp.2.weight\", \"decoder.blocks.9.mlp.2.bias\", \"decoder.blocks.9.mlp_ln.weight\", \"decoder.blocks.9.mlp_ln.bias\", \"decoder.blocks.10.attn.query.weight\", \"decoder.blocks.10.attn.query.bias\", \"decoder.blocks.10.attn.key.weight\", \"decoder.blocks.10.attn.value.weight\", \"decoder.blocks.10.attn.value.bias\", \"decoder.blocks.10.attn.out.weight\", \"decoder.blocks.10.attn.out.bias\", \"decoder.blocks.10.attn_ln.weight\", \"decoder.blocks.10.attn_ln.bias\", \"decoder.blocks.10.cross_attn.query.weight\", \"decoder.blocks.10.cross_attn.query.bias\", \"decoder.blocks.10.cross_attn.key.weight\", \"decoder.blocks.10.cross_attn.value.weight\", \"decoder.blocks.10.cross_attn.value.bias\", \"decoder.blocks.10.cross_attn.out.weight\", \"decoder.blocks.10.cross_attn.out.bias\", \"decoder.blocks.10.cross_attn_ln.weight\", \"decoder.blocks.10.cross_attn_ln.bias\", \"decoder.blocks.10.mlp.0.weight\", \"decoder.blocks.10.mlp.0.bias\", \"decoder.blocks.10.mlp.2.weight\", \"decoder.blocks.10.mlp.2.bias\", \"decoder.blocks.10.mlp_ln.weight\", \"decoder.blocks.10.mlp_ln.bias\", \"decoder.blocks.11.attn.query.weight\", \"decoder.blocks.11.attn.query.bias\", \"decoder.blocks.11.attn.key.weight\", \"decoder.blocks.11.attn.value.weight\", \"decoder.blocks.11.attn.value.bias\", \"decoder.blocks.11.attn.out.weight\", \"decoder.blocks.11.attn.out.bias\", \"decoder.blocks.11.attn_ln.weight\", \"decoder.blocks.11.attn_ln.bias\", \"decoder.blocks.11.cross_attn.query.weight\", \"decoder.blocks.11.cross_attn.query.bias\", \"decoder.blocks.11.cross_attn.key.weight\", \"decoder.blocks.11.cross_attn.value.weight\", \"decoder.blocks.11.cross_attn.value.bias\", \"decoder.blocks.11.cross_attn.out.weight\", \"decoder.blocks.11.cross_attn.out.bias\", \"decoder.blocks.11.cross_attn_ln.weight\", \"decoder.blocks.11.cross_attn_ln.bias\", \"decoder.blocks.11.mlp.0.weight\", \"decoder.blocks.11.mlp.0.bias\", \"decoder.blocks.11.mlp.2.weight\", \"decoder.blocks.11.mlp.2.bias\", \"decoder.blocks.11.mlp_ln.weight\", \"decoder.blocks.11.mlp_ln.bias\", \"decoder.ln.weight\", \"decoder.ln.bias\". \n\tUnexpected key(s) in state_dict: \"module.encoder.positional_embedding\", \"module.encoder.conv1.weight\", \"module.encoder.conv1.bias\", \"module.encoder.conv2.weight\", \"module.encoder.conv2.bias\", \"module.encoder.blocks.0.attn.query.weight\", \"module.encoder.blocks.0.attn.query.bias\", \"module.encoder.blocks.0.attn.key.weight\", \"module.encoder.blocks.0.attn.value.weight\", \"module.encoder.blocks.0.attn.value.bias\", \"module.encoder.blocks.0.attn.out.weight\", \"module.encoder.blocks.0.attn.out.bias\", \"module.encoder.blocks.0.attn_ln.weight\", \"module.encoder.blocks.0.attn_ln.bias\", \"module.encoder.blocks.0.mlp.0.weight\", \"module.encoder.blocks.0.mlp.0.bias\", \"module.encoder.blocks.0.mlp.2.weight\", \"module.encoder.blocks.0.mlp.2.bias\", \"module.encoder.blocks.0.mlp_ln.weight\", \"module.encoder.blocks.0.mlp_ln.bias\", \"module.encoder.blocks.1.attn.query.weight\", \"module.encoder.blocks.1.attn.query.bias\", \"module.encoder.blocks.1.attn.key.weight\", \"module.encoder.blocks.1.attn.value.weight\", \"module.encoder.blocks.1.attn.value.bias\", \"module.encoder.blocks.1.attn.out.weight\", \"module.encoder.blocks.1.attn.out.bias\", \"module.encoder.blocks.1.attn_ln.weight\", \"module.encoder.blocks.1.attn_ln.bias\", \"module.encoder.blocks.1.mlp.0.weight\", \"module.encoder.blocks.1.mlp.0.bias\", \"module.encoder.blocks.1.mlp.2.weight\", \"module.encoder.blocks.1.mlp.2.bias\", \"module.encoder.blocks.1.mlp_ln.weight\", \"module.encoder.blocks.1.mlp_ln.bias\", \"module.encoder.blocks.2.attn.query.weight\", \"module.encoder.blocks.2.attn.query.bias\", \"module.encoder.blocks.2.attn.key.weight\", \"module.encoder.blocks.2.attn.value.weight\", \"module.encoder.blocks.2.attn.value.bias\", \"module.encoder.blocks.2.attn.out.weight\", \"module.encoder.blocks.2.attn.out.bias\", \"module.encoder.blocks.2.attn_ln.weight\", \"module.encoder.blocks.2.attn_ln.bias\", \"module.encoder.blocks.2.mlp.0.weight\", \"module.encoder.blocks.2.mlp.0.bias\", \"module.encoder.blocks.2.mlp.2.weight\", \"module.encoder.blocks.2.mlp.2.bias\", \"module.encoder.blocks.2.mlp_ln.weight\", \"module.encoder.blocks.2.mlp_ln.bias\", \"module.encoder.blocks.3.attn.query.weight\", \"module.encoder.blocks.3.attn.query.bias\", \"module.encoder.blocks.3.attn.key.weight\", \"module.encoder.blocks.3.attn.value.weight\", \"module.encoder.blocks.3.attn.value.bias\", \"module.encoder.blocks.3.attn.out.weight\", \"module.encoder.blocks.3.attn.out.bias\", \"module.encoder.blocks.3.attn_ln.weight\", \"module.encoder.blocks.3.attn_ln.bias\", \"module.encoder.blocks.3.mlp.0.weight\", \"module.encoder.blocks.3.mlp.0.bias\", \"module.encoder.blocks.3.mlp.2.weight\", \"module.encoder.blocks.3.mlp.2.bias\", \"module.encoder.blocks.3.mlp_ln.weight\", \"module.encoder.blocks.3.mlp_ln.bias\", \"module.encoder.blocks.4.attn.query.weight\", \"module.encoder.blocks.4.attn.query.bias\", \"module.encoder.blocks.4.attn.key.weight\", \"module.encoder.blocks.4.attn.value.weight\", \"module.encoder.blocks.4.attn.value.bias\", \"module.encoder.blocks.4.attn.out.weight\", \"module.encoder.blocks.4.attn.out.bias\", \"module.encoder.blocks.4.attn_ln.weight\", \"module.encoder.blocks.4.attn_ln.bias\", \"module.encoder.blocks.4.mlp.0.weight\", \"module.encoder.blocks.4.mlp.0.bias\", \"module.encoder.blocks.4.mlp.2.weight\", \"module.encoder.blocks.4.mlp.2.bias\", \"module.encoder.blocks.4.mlp_ln.weight\", \"module.encoder.blocks.4.mlp_ln.bias\", \"module.encoder.blocks.5.attn.query.weight\", \"module.encoder.blocks.5.attn.query.bias\", \"module.encoder.blocks.5.attn.key.weight\", \"module.encoder.blocks.5.attn.value.weight\", \"module.encoder.blocks.5.attn.value.bias\", \"module.encoder.blocks.5.attn.out.weight\", \"module.encoder.blocks.5.attn.out.bias\", \"module.encoder.blocks.5.attn_ln.weight\", \"module.encoder.blocks.5.attn_ln.bias\", \"module.encoder.blocks.5.mlp.0.weight\", \"module.encoder.blocks.5.mlp.0.bias\", \"module.encoder.blocks.5.mlp.2.weight\", \"module.encoder.blocks.5.mlp.2.bias\", \"module.encoder.blocks.5.mlp_ln.weight\", \"module.encoder.blocks.5.mlp_ln.bias\", \"module.encoder.blocks.6.attn.query.weight\", \"module.encoder.blocks.6.attn.query.bias\", \"module.encoder.blocks.6.attn.key.weight\", \"module.encoder.blocks.6.attn.value.weight\", \"module.encoder.blocks.6.attn.value.bias\", \"module.encoder.blocks.6.attn.out.weight\", \"module.encoder.blocks.6.attn.out.bias\", \"module.encoder.blocks.6.attn_ln.weight\", \"module.encoder.blocks.6.attn_ln.bias\", \"module.encoder.blocks.6.mlp.0.weight\", \"module.encoder.blocks.6.mlp.0.bias\", \"module.encoder.blocks.6.mlp.2.weight\", \"module.encoder.blocks.6.mlp.2.bias\", \"module.encoder.blocks.6.mlp_ln.weight\", \"module.encoder.blocks.6.mlp_ln.bias\", \"module.encoder.blocks.7.attn.query.weight\", \"module.encoder.blocks.7.attn.query.bias\", \"module.encoder.blocks.7.attn.key.weight\", \"module.encoder.blocks.7.attn.value.weight\", \"module.encoder.blocks.7.attn.value.bias\", \"module.encoder.blocks.7.attn.out.weight\", \"module.encoder.blocks.7.attn.out.bias\", \"module.encoder.blocks.7.attn_ln.weight\", \"module.encoder.blocks.7.attn_ln.bias\", \"module.encoder.blocks.7.mlp.0.weight\", \"module.encoder.blocks.7.mlp.0.bias\", \"module.encoder.blocks.7.mlp.2.weight\", \"module.encoder.blocks.7.mlp.2.bias\", \"module.encoder.blocks.7.mlp_ln.weight\", \"module.encoder.blocks.7.mlp_ln.bias\", \"module.encoder.blocks.8.attn.query.weight\", \"module.encoder.blocks.8.attn.query.bias\", \"module.encoder.blocks.8.attn.key.weight\", \"module.encoder.blocks.8.attn.value.weight\", \"module.encoder.blocks.8.attn.value.bias\", \"module.encoder.blocks.8.attn.out.weight\", \"module.encoder.blocks.8.attn.out.bias\", \"module.encoder.blocks.8.attn_ln.weight\", \"module.encoder.blocks.8.attn_ln.bias\", \"module.encoder.blocks.8.mlp.0.weight\", \"module.encoder.blocks.8.mlp.0.bias\", \"module.encoder.blocks.8.mlp.2.weight\", \"module.encoder.blocks.8.mlp.2.bias\", \"module.encoder.blocks.8.mlp_ln.weight\", \"module.encoder.blocks.8.mlp_ln.bias\", \"module.encoder.blocks.9.attn.query.weight\", \"module.encoder.blocks.9.attn.query.bias\", \"module.encoder.blocks.9.attn.key.weight\", \"module.encoder.blocks.9.attn.value.weight\", \"module.encoder.blocks.9.attn.value.bias\", \"module.encoder.blocks.9.attn.out.weight\", \"module.encoder.blocks.9.attn.out.bias\", \"module.encoder.blocks.9.attn_ln.weight\", \"module.encoder.blocks.9.attn_ln.bias\", \"module.encoder.blocks.9.mlp.0.weight\", \"module.encoder.blocks.9.mlp.0.bias\", \"module.encoder.blocks.9.mlp.2.weight\", \"module.encoder.blocks.9.mlp.2.bias\", \"module.encoder.blocks.9.mlp_ln.weight\", \"module.encoder.blocks.9.mlp_ln.bias\", \"module.encoder.blocks.10.attn.query.weight\", \"module.encoder.blocks.10.attn.query.bias\", \"module.encoder.blocks.10.attn.key.weight\", \"module.encoder.blocks.10.attn.value.weight\", \"module.encoder.blocks.10.attn.value.bias\", \"module.encoder.blocks.10.attn.out.weight\", \"module.encoder.blocks.10.attn.out.bias\", \"module.encoder.blocks.10.attn_ln.weight\", \"module.encoder.blocks.10.attn_ln.bias\", \"module.encoder.blocks.10.mlp.0.weight\", \"module.encoder.blocks.10.mlp.0.bias\", \"module.encoder.blocks.10.mlp.2.weight\", \"module.encoder.blocks.10.mlp.2.bias\", \"module.encoder.blocks.10.mlp_ln.weight\", \"module.encoder.blocks.10.mlp_ln.bias\", \"module.encoder.blocks.11.attn.query.weight\", \"module.encoder.blocks.11.attn.query.bias\", \"module.encoder.blocks.11.attn.key.weight\", \"module.encoder.blocks.11.attn.value.weight\", \"module.encoder.blocks.11.attn.value.bias\", \"module.encoder.blocks.11.attn.out.weight\", \"module.encoder.blocks.11.attn.out.bias\", \"module.encoder.blocks.11.attn_ln.weight\", \"module.encoder.blocks.11.attn_ln.bias\", \"module.encoder.blocks.11.mlp.0.weight\", \"module.encoder.blocks.11.mlp.0.bias\", \"module.encoder.blocks.11.mlp.2.weight\", \"module.encoder.blocks.11.mlp.2.bias\", \"module.encoder.blocks.11.mlp_ln.weight\", \"module.encoder.blocks.11.mlp_ln.bias\", \"module.encoder.ln_post.weight\", \"module.encoder.ln_post.bias\", \"module.decoder.positional_embedding\", \"module.decoder.token_embedding.weight\", \"module.decoder.blocks.0.attn.query.weight\", \"module.decoder.blocks.0.attn.query.bias\", \"module.decoder.blocks.0.attn.key.weight\", \"module.decoder.blocks.0.attn.value.weight\", \"module.decoder.blocks.0.attn.value.bias\", \"module.decoder.blocks.0.attn.out.weight\", \"module.decoder.blocks.0.attn.out.bias\", \"module.decoder.blocks.0.attn_ln.weight\", \"module.decoder.blocks.0.attn_ln.bias\", \"module.decoder.blocks.0.cross_attn.query.weight\", \"module.decoder.blocks.0.cross_attn.query.bias\", \"module.decoder.blocks.0.cross_attn.key.weight\", \"module.decoder.blocks.0.cross_attn.value.weight\", \"module.decoder.blocks.0.cross_attn.value.bias\", \"module.decoder.blocks.0.cross_attn.out.weight\", \"module.decoder.blocks.0.cross_attn.out.bias\", \"module.decoder.blocks.0.cross_attn_ln.weight\", \"module.decoder.blocks.0.cross_attn_ln.bias\", \"module.decoder.blocks.0.mlp.0.weight\", \"module.decoder.blocks.0.mlp.0.bias\", \"module.decoder.blocks.0.mlp.2.weight\", \"module.decoder.blocks.0.mlp.2.bias\", \"module.decoder.blocks.0.mlp_ln.weight\", \"module.decoder.blocks.0.mlp_ln.bias\", \"module.decoder.blocks.1.attn.query.weight\", \"module.decoder.blocks.1.attn.query.bias\", \"module.decoder.blocks.1.attn.key.weight\", \"module.decoder.blocks.1.attn.value.weight\", \"module.decoder.blocks.1.attn.value.bias\", \"module.decoder.blocks.1.attn.out.weight\", \"module.decoder.blocks.1.attn.out.bias\", \"module.decoder.blocks.1.attn_ln.weight\", \"module.decoder.blocks.1.attn_ln.bias\", \"module.decoder.blocks.1.cross_attn.query.weight\", \"module.decoder.blocks.1.cross_attn.query.bias\", \"module.decoder.blocks.1.cross_attn.key.weight\", \"module.decoder.blocks.1.cross_attn.value.weight\", \"module.decoder.blocks.1.cross_attn.value.bias\", \"module.decoder.blocks.1.cross_attn.out.weight\", \"module.decoder.blocks.1.cross_attn.out.bias\", \"module.decoder.blocks.1.cross_attn_ln.weight\", \"module.decoder.blocks.1.cross_attn_ln.bias\", \"module.decoder.blocks.1.mlp.0.weight\", \"module.decoder.blocks.1.mlp.0.bias\", \"module.decoder.blocks.1.mlp.2.weight\", \"module.decoder.blocks.1.mlp.2.bias\", \"module.decoder.blocks.1.mlp_ln.weight\", \"module.decoder.blocks.1.mlp_ln.bias\", \"module.decoder.blocks.2.attn.query.weight\", \"module.decoder.blocks.2.attn.query.bias\", \"module.decoder.blocks.2.attn.key.weight\", \"module.decoder.blocks.2.attn.value.weight\", \"module.decoder.blocks.2.attn.value.bias\", \"module.decoder.blocks.2.attn.out.weight\", \"module.decoder.blocks.2.attn.out.bias\", \"module.decoder.blocks.2.attn_ln.weight\", \"module.decoder.blocks.2.attn_ln.bias\", \"module.decoder.blocks.2.cross_attn.query.weight\", \"module.decoder.blocks.2.cross_attn.query.bias\", \"module.decoder.blocks.2.cross_attn.key.weight\", \"module.decoder.blocks.2.cross_attn.value.weight\", \"module.decoder.blocks.2.cross_attn.value.bias\", \"module.decoder.blocks.2.cross_attn.out.weight\", \"module.decoder.blocks.2.cross_attn.out.bias\", \"module.decoder.blocks.2.cross_attn_ln.weight\", \"module.decoder.blocks.2.cross_attn_ln.bias\", \"module.decoder.blocks.2.mlp.0.weight\", \"module.decoder.blocks.2.mlp.0.bias\", \"module.decoder.blocks.2.mlp.2.weight\", \"module.decoder.blocks.2.mlp.2.bias\", \"module.decoder.blocks.2.mlp_ln.weight\", \"module.decoder.blocks.2.mlp_ln.bias\", \"module.decoder.blocks.3.attn.query.weight\", \"module.decoder.blocks.3.attn.query.bias\", \"module.decoder.blocks.3.attn.key.weight\", \"module.decoder.blocks.3.attn.value.weight\", \"module.decoder.blocks.3.attn.value.bias\", \"module.decoder.blocks.3.attn.out.weight\", \"module.decoder.blocks.3.attn.out.bias\", \"module.decoder.blocks.3.attn_ln.weight\", \"module.decoder.blocks.3.attn_ln.bias\", \"module.decoder.blocks.3.cross_attn.query.weight\", \"module.decoder.blocks.3.cross_attn.query.bias\", \"module.decoder.blocks.3.cross_attn.key.weight\", \"module.decoder.blocks.3.cross_attn.value.weight\", \"module.decoder.blocks.3.cross_attn.value.bias\", \"module.decoder.blocks.3.cross_attn.out.weight\", \"module.decoder.blocks.3.cross_attn.out.bias\", \"module.decoder.blocks.3.cross_attn_ln.weight\", \"module.decoder.blocks.3.cross_attn_ln.bias\", \"module.decoder.blocks.3.mlp.0.weight\", \"module.decoder.blocks.3.mlp.0.bias\", \"module.decoder.blocks.3.mlp.2.weight\", \"module.decoder.blocks.3.mlp.2.bias\", \"module.decoder.blocks.3.mlp_ln.weight\", \"module.decoder.blocks.3.mlp_ln.bias\", \"module.decoder.blocks.4.attn.query.weight\", \"module.decoder.blocks.4.attn.query.bias\", \"module.decoder.blocks.4.attn.key.weight\", \"module.decoder.blocks.4.attn.value.weight\", \"module.decoder.blocks.4.attn.value.bias\", \"module.decoder.blocks.4.attn.out.weight\", \"module.decoder.blocks.4.attn.out.bias\", \"module.decoder.blocks.4.attn_ln.weight\", \"module.decoder.blocks.4.attn_ln.bias\", \"module.decoder.blocks.4.cross_attn.query.weight\", \"module.decoder.blocks.4.cross_attn.query.bias\", \"module.decoder.blocks.4.cross_attn.key.weight\", \"module.decoder.blocks.4.cross_attn.value.weight\", \"module.decoder.blocks.4.cross_attn.value.bias\", \"module.decoder.blocks.4.cross_attn.out.weight\", \"module.decoder.blocks.4.cross_attn.out.bias\", \"module.decoder.blocks.4.cross_attn_ln.weight\", \"module.decoder.blocks.4.cross_attn_ln.bias\", \"module.decoder.blocks.4.mlp.0.weight\", \"module.decoder.blocks.4.mlp.0.bias\", \"module.decoder.blocks.4.mlp.2.weight\", \"module.decoder.blocks.4.mlp.2.bias\", \"module.decoder.blocks.4.mlp_ln.weight\", \"module.decoder.blocks.4.mlp_ln.bias\", \"module.decoder.blocks.5.attn.query.weight\", \"module.decoder.blocks.5.attn.query.bias\", \"module.decoder.blocks.5.attn.key.weight\", \"module.decoder.blocks.5.attn.value.weight\", \"module.decoder.blocks.5.attn.value.bias\", \"module.decoder.blocks.5.attn.out.weight\", \"module.decoder.blocks.5.attn.out.bias\", \"module.decoder.blocks.5.attn_ln.weight\", \"module.decoder.blocks.5.attn_ln.bias\", \"module.decoder.blocks.5.cross_attn.query.weight\", \"module.decoder.blocks.5.cross_attn.query.bias\", \"module.decoder.blocks.5.cross_attn.key.weight\", \"module.decoder.blocks.5.cross_attn.value.weight\", \"module.decoder.blocks.5.cross_attn.value.bias\", \"module.decoder.blocks.5.cross_attn.out.weight\", \"module.decoder.blocks.5.cross_attn.out.bias\", \"module.decoder.blocks.5.cross_attn_ln.weight\", \"module.decoder.blocks.5.cross_attn_ln.bias\", \"module.decoder.blocks.5.mlp.0.weight\", \"module.decoder.blocks.5.mlp.0.bias\", \"module.decoder.blocks.5.mlp.2.weight\", \"module.decoder.blocks.5.mlp.2.bias\", \"module.decoder.blocks.5.mlp_ln.weight\", \"module.decoder.blocks.5.mlp_ln.bias\", \"module.decoder.blocks.6.attn.query.weight\", \"module.decoder.blocks.6.attn.query.bias\", \"module.decoder.blocks.6.attn.key.weight\", \"module.decoder.blocks.6.attn.value.weight\", \"module.decoder.blocks.6.attn.value.bias\", \"module.decoder.blocks.6.attn.out.weight\", \"module.decoder.blocks.6.attn.out.bias\", \"module.decoder.blocks.6.attn_ln.weight\", \"module.decoder.blocks.6.attn_ln.bias\", \"module.decoder.blocks.6.cross_attn.query.weight\", \"module.decoder.blocks.6.cross_attn.query.bias\", \"module.decoder.blocks.6.cross_attn.key.weight\", \"module.decoder.blocks.6.cross_attn.value.weight\", \"module.decoder.blocks.6.cross_attn.value.bias\", \"module.decoder.blocks.6.cross_attn.out.weight\", \"module.decoder.blocks.6.cross_attn.out.bias\", \"module.decoder.blocks.6.cross_attn_ln.weight\", \"module.decoder.blocks.6.cross_attn_ln.bias\", \"module.decoder.blocks.6.mlp.0.weight\", \"module.decoder.blocks.6.mlp.0.bias\", \"module.decoder.blocks.6.mlp.2.weight\", \"module.decoder.blocks.6.mlp.2.bias\", \"module.decoder.blocks.6.mlp_ln.weight\", \"module.decoder.blocks.6.mlp_ln.bias\", \"module.decoder.blocks.7.attn.query.weight\", \"module.decoder.blocks.7.attn.query.bias\", \"module.decoder.blocks.7.attn.key.weight\", \"module.decoder.blocks.7.attn.value.weight\", \"module.decoder.blocks.7.attn.value.bias\", \"module.decoder.blocks.7.attn.out.weight\", \"module.decoder.blocks.7.attn.out.bias\", \"module.decoder.blocks.7.attn_ln.weight\", \"module.decoder.blocks.7.attn_ln.bias\", \"module.decoder.blocks.7.cross_attn.query.weight\", \"module.decoder.blocks.7.cross_attn.query.bias\", \"module.decoder.blocks.7.cross_attn.key.weight\", \"module.decoder.blocks.7.cross_attn.value.weight\", \"module.decoder.blocks.7.cross_attn.value.bias\", \"module.decoder.blocks.7.cross_attn.out.weight\", \"module.decoder.blocks.7.cross_attn.out.bias\", \"module.decoder.blocks.7.cross_attn_ln.weight\", \"module.decoder.blocks.7.cross_attn_ln.bias\", \"module.decoder.blocks.7.mlp.0.weight\", \"module.decoder.blocks.7.mlp.0.bias\", \"module.decoder.blocks.7.mlp.2.weight\", \"module.decoder.blocks.7.mlp.2.bias\", \"module.decoder.blocks.7.mlp_ln.weight\", \"module.decoder.blocks.7.mlp_ln.bias\", \"module.decoder.blocks.8.attn.query.weight\", \"module.decoder.blocks.8.attn.query.bias\", \"module.decoder.blocks.8.attn.key.weight\", \"module.decoder.blocks.8.attn.value.weight\", \"module.decoder.blocks.8.attn.value.bias\", \"module.decoder.blocks.8.attn.out.weight\", \"module.decoder.blocks.8.attn.out.bias\", \"module.decoder.blocks.8.attn_ln.weight\", \"module.decoder.blocks.8.attn_ln.bias\", \"module.decoder.blocks.8.cross_attn.query.weight\", \"module.decoder.blocks.8.cross_attn.query.bias\", \"module.decoder.blocks.8.cross_attn.key.weight\", \"module.decoder.blocks.8.cross_attn.value.weight\", \"module.decoder.blocks.8.cross_attn.value.bias\", \"module.decoder.blocks.8.cross_attn.out.weight\", \"module.decoder.blocks.8.cross_attn.out.bias\", \"module.decoder.blocks.8.cross_attn_ln.weight\", \"module.decoder.blocks.8.cross_attn_ln.bias\", \"module.decoder.blocks.8.mlp.0.weight\", \"module.decoder.blocks.8.mlp.0.bias\", \"module.decoder.blocks.8.mlp.2.weight\", \"module.decoder.blocks.8.mlp.2.bias\", \"module.decoder.blocks.8.mlp_ln.weight\", \"module.decoder.blocks.8.mlp_ln.bias\", \"module.decoder.blocks.9.attn.query.weight\", \"module.decoder.blocks.9.attn.query.bias\", \"module.decoder.blocks.9.attn.key.weight\", \"module.decoder.blocks.9.attn.value.weight\", \"module.decoder.blocks.9.attn.value.bias\", \"module.decoder.blocks.9.attn.out.weight\", \"module.decoder.blocks.9.attn.out.bias\", \"module.decoder.blocks.9.attn_ln.weight\", \"module.decoder.blocks.9.attn_ln.bias\", \"module.decoder.blocks.9.cross_attn.query.weight\", \"module.decoder.blocks.9.cross_attn.query.bias\", \"module.decoder.blocks.9.cross_attn.key.weight\", \"module.decoder.blocks.9.cross_attn.value.weight\", \"module.decoder.blocks.9.cross_attn.value.bias\", \"module.decoder.blocks.9.cross_attn.out.weight\", \"module.decoder.blocks.9.cross_attn.out.bias\", \"module.decoder.blocks.9.cross_attn_ln.weight\", \"module.decoder.blocks.9.cross_attn_ln.bias\", \"module.decoder.blocks.9.mlp.0.weight\", \"module.decoder.blocks.9.mlp.0.bias\", \"module.decoder.blocks.9.mlp.2.weight\", \"module.decoder.blocks.9.mlp.2.bias\", \"module.decoder.blocks.9.mlp_ln.weight\", \"module.decoder.blocks.9.mlp_ln.bias\", \"module.decoder.blocks.10.attn.query.weight\", \"module.decoder.blocks.10.attn.query.bias\", \"module.decoder.blocks.10.attn.key.weight\", \"module.decoder.blocks.10.attn.value.weight\", \"module.decoder.blocks.10.attn.value.bias\", \"module.decoder.blocks.10.attn.out.weight\", \"module.decoder.blocks.10.attn.out.bias\", \"module.decoder.blocks.10.attn_ln.weight\", \"module.decoder.blocks.10.attn_ln.bias\", \"module.decoder.blocks.10.cross_attn.query.weight\", \"module.decoder.blocks.10.cross_attn.query.bias\", \"module.decoder.blocks.10.cross_attn.key.weight\", \"module.decoder.blocks.10.cross_attn.value.weight\", \"module.decoder.blocks.10.cross_attn.value.bias\", \"module.decoder.blocks.10.cross_attn.out.weight\", \"module.decoder.blocks.10.cross_attn.out.bias\", \"module.decoder.blocks.10.cross_attn_ln.weight\", \"module.decoder.blocks.10.cross_attn_ln.bias\", \"module.decoder.blocks.10.mlp.0.weight\", \"module.decoder.blocks.10.mlp.0.bias\", \"module.decoder.blocks.10.mlp.2.weight\", \"module.decoder.blocks.10.mlp.2.bias\", \"module.decoder.blocks.10.mlp_ln.weight\", \"module.decoder.blocks.10.mlp_ln.bias\", \"module.decoder.blocks.11.attn.query.weight\", \"module.decoder.blocks.11.attn.query.bias\", \"module.decoder.blocks.11.attn.key.weight\", \"module.decoder.blocks.11.attn.value.weight\", \"module.decoder.blocks.11.attn.value.bias\", \"module.decoder.blocks.11.attn.out.weight\", \"module.decoder.blocks.11.attn.out.bias\", \"module.decoder.blocks.11.attn_ln.weight\", \"module.decoder.blocks.11.attn_ln.bias\", \"module.decoder.blocks.11.cross_attn.query.weight\", \"module.decoder.blocks.11.cross_attn.query.bias\", \"module.decoder.blocks.11.cross_attn.key.weight\", \"module.decoder.blocks.11.cross_attn.value.weight\", \"module.decoder.blocks.11.cross_attn.value.bias\", \"module.decoder.blocks.11.cross_attn.out.weight\", \"module.decoder.blocks.11.cross_attn.out.bias\", \"module.decoder.blocks.11.cross_attn_ln.weight\", \"module.decoder.blocks.11.cross_attn_ln.bias\", \"module.decoder.blocks.11.mlp.0.weight\", \"module.decoder.blocks.11.mlp.0.bias\", \"module.decoder.blocks.11.mlp.2.weight\", \"module.decoder.blocks.11.mlp.2.bias\", \"module.decoder.blocks.11.mlp_ln.weight\", \"module.decoder.blocks.11.mlp_ln.bias\", \"module.decoder.ln.weight\", \"module.decoder.ln.bias\". "
     ]
    }
   ],
   "source": [
    "model_finetune = load_model('small', model_path=\"experiments/small_bs_12_epoch_12/ckpt_epoch_best_epoch_iter_.pt\")"
   ]
  },
  {
   "cell_type": "code",
   "execution_count": 9,
   "metadata": {},
   "outputs": [
    {
     "name": "stderr",
     "output_type": "stream",
     "text": [
      "                                                 \r"
     ]
    }
   ],
   "source": [
    "prediction_finetune = predict_video(video_id = 72,\n",
    "                                dataset_path = \"eval_dataset/\",\n",
    "                                model = model_finetune,\n",
    "                                labels = labels,\n",
    "                                pred_method='base')\n",
    "calculate_wer(prediction_finetune)"
   ]
  },
  {
   "cell_type": "code",
   "execution_count": 10,
   "metadata": {},
   "outputs": [
    {
     "data": {
      "text/plain": [
       "(0.19997482020939167, 0.17857142857142858)"
      ]
     },
     "execution_count": 10,
     "metadata": {},
     "output_type": "execute_result"
    }
   ],
   "source": [
    "prediction_finetune.wer.mean(), prediction_finetune.wer.median()"
   ]
  },
  {
   "cell_type": "code",
   "execution_count": 11,
   "metadata": {},
   "outputs": [
    {
     "name": "stderr",
     "output_type": "stream",
     "text": [
      "                                                 \r"
     ]
    }
   ],
   "source": [
    "prediction_small = predict_video(video_id = 72,\n",
    "                                         dataset_path = \"eval_dataset/\",\n",
    "                                         model = model_small,\n",
    "                                         labels = labels,\n",
    "                                         pred_method='base')\n",
    "\n",
    "calculate_wer(prediction_small)"
   ]
  },
  {
   "cell_type": "code",
   "execution_count": 12,
   "metadata": {},
   "outputs": [
    {
     "data": {
      "text/plain": [
       "(0.259469253488408, 0.23076923076923078)"
      ]
     },
     "execution_count": 12,
     "metadata": {},
     "output_type": "execute_result"
    }
   ],
   "source": [
    "prediction_small.wer.mean(), prediction_small.wer.median()"
   ]
  },
  {
   "cell_type": "code",
   "execution_count": 13,
   "metadata": {},
   "outputs": [
    {
     "data": {
      "text/html": [
       "<div>\n",
       "<style scoped>\n",
       "    .dataframe tbody tr th:only-of-type {\n",
       "        vertical-align: middle;\n",
       "    }\n",
       "\n",
       "    .dataframe tbody tr th {\n",
       "        vertical-align: top;\n",
       "    }\n",
       "\n",
       "    .dataframe thead th {\n",
       "        text-align: right;\n",
       "    }\n",
       "</style>\n",
       "<table border=\"1\" class=\"dataframe\">\n",
       "  <thead>\n",
       "    <tr style=\"text-align: right;\">\n",
       "      <th></th>\n",
       "      <th>label</th>\n",
       "      <th>prediction</th>\n",
       "      <th>clean_label</th>\n",
       "      <th>clean_prediction</th>\n",
       "      <th>wer</th>\n",
       "    </tr>\n",
       "  </thead>\n",
       "  <tbody>\n",
       "    <tr>\n",
       "      <th>0</th>\n",
       "      <td>Утомилися від карантину Дарма Заплануйте втому...</td>\n",
       "      <td>втомились від карантину дарма заплануйте втоми...</td>\n",
       "      <td>утомилися від карантину дарма заплануйте втому...</td>\n",
       "      <td>втомились від карантину дарма заплануйте втоми...</td>\n",
       "      <td>0.307692</td>\n",
       "    </tr>\n",
       "    <tr>\n",
       "      <th>1</th>\n",
       "      <td>Слава Ісу Ви дивитесь програму Ґрати песик дуж...</td>\n",
       "      <td>слава ісу ви дивитесь програму ґрати песик дуж...</td>\n",
       "      <td>слава ісу ви дивитесь програму ґрати песик дуж...</td>\n",
       "      <td>слава ісу ви дивитесь програму ґрати песик дуж...</td>\n",
       "      <td>0.200000</td>\n",
       "    </tr>\n",
       "    <tr>\n",
       "      <th>2</th>\n",
       "      <td>НеКей тобто Настя Каменських записала карантин...</td>\n",
       "      <td>енкей тобто настя каменських записала карантин...</td>\n",
       "      <td>некей тобто настя каменських записала карантин...</td>\n",
       "      <td>енкей тобто настя каменських записала карантин...</td>\n",
       "      <td>0.625000</td>\n",
       "    </tr>\n",
       "    <tr>\n",
       "      <th>3</th>\n",
       "      <td>З точки зору бізнесу це дуже розумний хід Адже...</td>\n",
       "      <td>сточки зору бізнесу це дуже розумний хіт адже ...</td>\n",
       "      <td>з точки зору бізнесу це дуже розумний хід адже...</td>\n",
       "      <td>сточки зору бізнесу це дуже розумний хіт адже ...</td>\n",
       "      <td>0.093750</td>\n",
       "    </tr>\n",
       "    <tr>\n",
       "      <th>4</th>\n",
       "      <td>Вот ю гона ду вот ю гона ду Ін карантін моуд ...</td>\n",
       "      <td>what you gonna do what you gonna do in quaran...</td>\n",
       "      <td>вот ю гона ду вот ю гона ду ін карантін моуд а...</td>\n",
       "      <td>what you gonna do what you gonna do in quarant...</td>\n",
       "      <td>0.483871</td>\n",
       "    </tr>\n",
       "    <tr>\n",
       "      <th>...</th>\n",
       "      <td>...</td>\n",
       "      <td>...</td>\n",
       "      <td>...</td>\n",
       "      <td>...</td>\n",
       "      <td>...</td>\n",
       "    </tr>\n",
       "    <tr>\n",
       "      <th>126</th>\n",
       "      <td>Ага через пару років ми побачимо як Ґрета Тунб...</td>\n",
       "      <td>ага через пару років ми побачимо як ґрета тунб...</td>\n",
       "      <td>ага через пару років ми побачимо як ґрета тунб...</td>\n",
       "      <td>ага через пару років ми побачимо як ґрета тунб...</td>\n",
       "      <td>0.240000</td>\n",
       "    </tr>\n",
       "    <tr>\n",
       "      <th>127</th>\n",
       "      <td>миииии Не дивлячись на палання горіння та апок...</td>\n",
       "      <td>вииии не дивлячись на палання горіння та апок...</td>\n",
       "      <td>миииии не дивлячись на палання горіння та апок...</td>\n",
       "      <td>вииии не дивлячись на палання горіння та апока...</td>\n",
       "      <td>0.147059</td>\n",
       "    </tr>\n",
       "    <tr>\n",
       "      <th>128</th>\n",
       "      <td>Дякую Хардкісс Так подякувати гурту справді ва...</td>\n",
       "      <td>дякую хард фісс так подякувати гурту справді в...</td>\n",
       "      <td>дякую хардкісс так подякувати гурту справді ва...</td>\n",
       "      <td>дякую хард фісс так подякувати гурту справді в...</td>\n",
       "      <td>0.115385</td>\n",
       "    </tr>\n",
       "    <tr>\n",
       "      <th>129</th>\n",
       "      <td>Сподобалось відео Ставте лайк Не сподобалось С...</td>\n",
       "      <td>сподобалось відео ставте лайк не сподобалось с...</td>\n",
       "      <td>сподобалось відео ставте лайк не сподобалось с...</td>\n",
       "      <td>сподобалось відео ставте лайк не сподобалось с...</td>\n",
       "      <td>0.000000</td>\n",
       "    </tr>\n",
       "    <tr>\n",
       "      <th>130</th>\n",
       "      <td>А також пам’ятайте що у нас є патреон на якому...</td>\n",
       "      <td>а також пам’ятайте що у нас є патреон на якому...</td>\n",
       "      <td>а також памятайте що у нас є патреон на якому ...</td>\n",
       "      <td>а також памятайте що у нас є патреон на якому ...</td>\n",
       "      <td>0.026316</td>\n",
       "    </tr>\n",
       "  </tbody>\n",
       "</table>\n",
       "<p>131 rows × 5 columns</p>\n",
       "</div>"
      ],
      "text/plain": [
       "                                                 label  \\\n",
       "0    Утомилися від карантину Дарма Заплануйте втому...   \n",
       "1    Слава Ісу Ви дивитесь програму Ґрати песик дуж...   \n",
       "2    НеКей тобто Настя Каменських записала карантин...   \n",
       "3    З точки зору бізнесу це дуже розумний хід Адже...   \n",
       "4     Вот ю гона ду вот ю гона ду Ін карантін моуд ...   \n",
       "..                                                 ...   \n",
       "126  Ага через пару років ми побачимо як Ґрета Тунб...   \n",
       "127  миииии Не дивлячись на палання горіння та апок...   \n",
       "128  Дякую Хардкісс Так подякувати гурту справді ва...   \n",
       "129  Сподобалось відео Ставте лайк Не сподобалось С...   \n",
       "130  А також пам’ятайте що у нас є патреон на якому...   \n",
       "\n",
       "                                            prediction  \\\n",
       "0    втомились від карантину дарма заплануйте втоми...   \n",
       "1    слава ісу ви дивитесь програму ґрати песик дуж...   \n",
       "2    енкей тобто настя каменських записала карантин...   \n",
       "3    сточки зору бізнесу це дуже розумний хіт адже ...   \n",
       "4     what you gonna do what you gonna do in quaran...   \n",
       "..                                                 ...   \n",
       "126  ага через пару років ми побачимо як ґрета тунб...   \n",
       "127   вииии не дивлячись на палання горіння та апок...   \n",
       "128  дякую хард фісс так подякувати гурту справді в...   \n",
       "129  сподобалось відео ставте лайк не сподобалось с...   \n",
       "130  а також пам’ятайте що у нас є патреон на якому...   \n",
       "\n",
       "                                           clean_label  \\\n",
       "0    утомилися від карантину дарма заплануйте втому...   \n",
       "1    слава ісу ви дивитесь програму ґрати песик дуж...   \n",
       "2    некей тобто настя каменських записала карантин...   \n",
       "3    з точки зору бізнесу це дуже розумний хід адже...   \n",
       "4    вот ю гона ду вот ю гона ду ін карантін моуд а...   \n",
       "..                                                 ...   \n",
       "126  ага через пару років ми побачимо як ґрета тунб...   \n",
       "127  миииии не дивлячись на палання горіння та апок...   \n",
       "128  дякую хардкісс так подякувати гурту справді ва...   \n",
       "129  сподобалось відео ставте лайк не сподобалось с...   \n",
       "130  а також памятайте що у нас є патреон на якому ...   \n",
       "\n",
       "                                      clean_prediction       wer  \n",
       "0    втомились від карантину дарма заплануйте втоми...  0.307692  \n",
       "1    слава ісу ви дивитесь програму ґрати песик дуж...  0.200000  \n",
       "2    енкей тобто настя каменських записала карантин...  0.625000  \n",
       "3    сточки зору бізнесу це дуже розумний хіт адже ...  0.093750  \n",
       "4    what you gonna do what you gonna do in quarant...  0.483871  \n",
       "..                                                 ...       ...  \n",
       "126  ага через пару років ми побачимо як ґрета тунб...  0.240000  \n",
       "127  вииии не дивлячись на палання горіння та апока...  0.147059  \n",
       "128  дякую хард фісс так подякувати гурту справді в...  0.115385  \n",
       "129  сподобалось відео ставте лайк не сподобалось с...  0.000000  \n",
       "130  а також памятайте що у нас є патреон на якому ...  0.026316  \n",
       "\n",
       "[131 rows x 5 columns]"
      ]
     },
     "execution_count": 13,
     "metadata": {},
     "output_type": "execute_result"
    }
   ],
   "source": [
    "prediction_finetune"
   ]
  },
  {
   "cell_type": "code",
   "execution_count": 24,
   "metadata": {},
   "outputs": [
    {
     "data": {
      "text/plain": [
       "(90, 5)"
      ]
     },
     "execution_count": 24,
     "metadata": {},
     "output_type": "execute_result"
    }
   ],
   "source": [
    "prediction_small[prediction_small.wer>prediction_finetune.wer].shape"
   ]
  },
  {
   "cell_type": "code",
   "execution_count": 25,
   "metadata": {},
   "outputs": [
    {
     "data": {
      "text/plain": [
       "count    131.000000\n",
       "mean       0.059494\n",
       "std        0.122535\n",
       "min       -0.500000\n",
       "25%        0.000000\n",
       "50%        0.058824\n",
       "75%        0.121212\n",
       "max        0.470588\n",
       "Name: wer, dtype: float64"
      ]
     },
     "execution_count": 25,
     "metadata": {},
     "output_type": "execute_result"
    }
   ],
   "source": [
    "(prediction_small.wer - prediction_finetune.wer).describe()"
   ]
  },
  {
   "cell_type": "code",
   "execution_count": 45,
   "metadata": {},
   "outputs": [],
   "source": [
    "result = pd.concat([prediction_small, prediction_finetune.add_prefix('fine_tune_')], axis=1)"
   ]
  },
  {
   "cell_type": "code",
   "execution_count": 53,
   "metadata": {},
   "outputs": [
    {
     "data": {
      "text/plain": [
       "label                         І поки ви в паніці кидаєте королю Таїланду в о...\n",
       "prediction                     І поки ви у пані цекидаєте корлю Таїланду в о...\n",
       "clean_label                   і поки ви в паніці кидаєте королю таїланду в о...\n",
       "clean_prediction              і поки ви у пані цекидаєте корлю таїланду в ос...\n",
       "wer                                                                     0.47619\n",
       "fine_tune_label               І поки ви в паніці кидаєте королю Таїланду в о...\n",
       "fine_tune_prediction          і поки ви у пані це кидаєте корлю та іланду в ...\n",
       "fine_tune_clean_label         і поки ви в паніці кидаєте королю таїланду в о...\n",
       "fine_tune_clean_prediction    і поки ви у пані це кидаєте корлю та іланду в ...\n",
       "fine_tune_wer                                                           0.52381\n",
       "Name: 36, dtype: object"
      ]
     },
     "execution_count": 53,
     "metadata": {},
     "output_type": "execute_result"
    }
   ],
   "source": [
    "result[result.wer<result.fine_tune_wer].sort_values('fine_tune_wer', ascending=False).iloc[3]"
   ]
  },
  {
   "cell_type": "code",
   "execution_count": 52,
   "metadata": {},
   "outputs": [
    {
     "data": {
      "text/plain": [
       "array(['І поки ви в паніці кидаєте королю Таїланду в особисті повідомлення новий кліп Дуа Ліпи де вона співає що краще все ж таки вдома залишатись I would ve stayed at home Cause I was doing better alone Я закликаю вас не хвилюватись ',\n",
       "       ' І поки ви у пані цекидаєте корлю Таїланду в особисі повідомлення новий кліп «Дуаліпи», де вона співає, що краще все ж таки дома залишатись. «А я закликаю вас не хвилюватись».',\n",
       "       'і поки ви у пані це кидаєте корлю та іланду в особисі повідомлення новий кліп дуаліпи де вона співає що краще все ж таки дома залишатись я закликаю вас не хвилюватись '],\n",
       "      dtype=object)"
      ]
     },
     "execution_count": 52,
     "metadata": {},
     "output_type": "execute_result"
    }
   ],
   "source": [
    "result[result.wer<result.fine_tune_wer].sort_values('fine_tune_wer', ascending=False).iloc[3][['label', 'prediction', 'fine_tune_prediction']].values"
   ]
  },
  {
   "cell_type": "code",
   "execution_count": null,
   "metadata": {},
   "outputs": [],
   "source": []
  },
  {
   "cell_type": "code",
   "execution_count": null,
   "metadata": {},
   "outputs": [],
   "source": []
  },
  {
   "cell_type": "code",
   "execution_count": 16,
   "metadata": {},
   "outputs": [],
   "source": [
    "# df = pd.read_csv('results/labels_baseline_prediction.csv')\n",
    "# df_eval = pd.read_csv('results/labels_eval_baseline_prediction.csv')\n",
    "\n",
    "# df = pd.concat([df, df_eval])\n",
    "# print(df.shape)\n",
    "# df.head()"
   ]
  },
  {
   "cell_type": "code",
   "execution_count": null,
   "metadata": {},
   "outputs": [],
   "source": []
  }
 ],
 "metadata": {
  "kernelspec": {
   "display_name": "Python 3.10.12 ('golos_dev': venv)",
   "language": "python",
   "name": "python3"
  },
  "language_info": {
   "codemirror_mode": {
    "name": "ipython",
    "version": 3
   },
   "file_extension": ".py",
   "mimetype": "text/x-python",
   "name": "python",
   "nbconvert_exporter": "python",
   "pygments_lexer": "ipython3",
   "version": "3.10.12"
  },
  "orig_nbformat": 4,
  "vscode": {
   "interpreter": {
    "hash": "c27315e957413a2a3651028d4a8918b1aad0b308020fb4118a86eae96db28483"
   }
  }
 },
 "nbformat": 4,
 "nbformat_minor": 2
}
