{
 "cells": [
  {
   "cell_type": "code",
   "execution_count": 1,
   "metadata": {},
   "outputs": [],
   "source": [
    "import sys\n",
    "sys.path.append(\"/home/laba/golos/whisper_fine_tuning/dataset_creation/src/\")\n",
    "\n",
    "import numpy as np\n",
    "# import matplotlib.pyplot as plt\n",
    "import os\n",
    "import pandas as pd\n",
    "from tqdm import tqdm\n",
    "import librosa\n",
    "import glob\n",
    "\n",
    "from utils import load_labels\n",
    "from utils_model import load_model, predict_video\n",
    "from utils_analysis import calculate_wer, clean_text_before_wer"
   ]
  },
  {
   "cell_type": "code",
   "execution_count": 124,
   "metadata": {},
   "outputs": [],
   "source": [
    "labels = load_labels('results/filtered_labels_train.jsonl')\n",
    "# labels = load_labels('results/filtered_labels_eval.jsonl')\n",
    "\n",
    "model_small = load_model('small')"
   ]
  },
  {
   "cell_type": "code",
   "execution_count": 114,
   "metadata": {},
   "outputs": [],
   "source": [
    "model_finetune = load_model('small', model_path=\"experiments/small_bs_12_epoch_12_lower_lr_additional_cleaning/ckpt_epoch_best_epoch_iter_.pt\")"
   ]
  },
  {
   "cell_type": "code",
   "execution_count": 125,
   "metadata": {},
   "outputs": [
    {
     "name": "stderr",
     "output_type": "stream",
     "text": [
      "                                                 \r"
     ]
    }
   ],
   "source": [
    "prediction_finetune = predict_video(video_id = 10,\n",
    "                                dataset_path = \"dataset/\",\n",
    "                                model = model_finetune,\n",
    "                                labels = labels,\n",
    "                                pred_method='base')\n",
    "calculate_wer(prediction_finetune)"
   ]
  },
  {
   "cell_type": "code",
   "execution_count": 116,
   "metadata": {},
   "outputs": [
    {
     "data": {
      "text/plain": [
       "(0.2061442888881293, 0.12347560975609756)"
      ]
     },
     "execution_count": 116,
     "metadata": {},
     "output_type": "execute_result"
    }
   ],
   "source": [
    "# (0.19458135968521703, 0.14285714285714285)\n",
    "# (0.19074436540423984, 0.14285714285714285)\n",
    "\n",
    "# 166 - (0.26818501769276787, 0.2222222222222222)\n",
    "\n",
    "prediction_finetune.wer.mean(), prediction_finetune.wer.median()"
   ]
  },
  {
   "cell_type": "code",
   "execution_count": 47,
   "metadata": {},
   "outputs": [
    {
     "name": "stderr",
     "output_type": "stream",
     "text": [
      "                                       \r"
     ]
    }
   ],
   "source": [
    "# prediction_small = predict_video(video_id = 3,\n",
    "#                                          dataset_path = \"dataset/\",\n",
    "#                                          model = model_small,\n",
    "#                                          labels = labels,\n",
    "#                                          pred_method='base')\n",
    "\n",
    "# calculate_wer(prediction_small)\n",
    "# prediction_small.wer.mean(), prediction_small.wer.median()\n",
    "# # (0.259469253488408, 0.23076923076923078)"
   ]
  },
  {
   "cell_type": "code",
   "execution_count": 120,
   "metadata": {},
   "outputs": [
    {
     "data": {
      "text/html": [
       "<div>\n",
       "<style scoped>\n",
       "    .dataframe tbody tr th:only-of-type {\n",
       "        vertical-align: middle;\n",
       "    }\n",
       "\n",
       "    .dataframe tbody tr th {\n",
       "        vertical-align: top;\n",
       "    }\n",
       "\n",
       "    .dataframe thead th {\n",
       "        text-align: right;\n",
       "    }\n",
       "</style>\n",
       "<table border=\"1\" class=\"dataframe\">\n",
       "  <thead>\n",
       "    <tr style=\"text-align: right;\">\n",
       "      <th></th>\n",
       "      <th>index</th>\n",
       "      <th>label</th>\n",
       "      <th>prediction</th>\n",
       "      <th>clean_label</th>\n",
       "      <th>clean_prediction</th>\n",
       "      <th>wer</th>\n",
       "    </tr>\n",
       "  </thead>\n",
       "  <tbody>\n",
       "    <tr>\n",
       "      <th>0</th>\n",
       "      <td>0</td>\n",
       "      <td>missed audio</td>\n",
       "      <td>missed audio</td>\n",
       "      <td>missed audio</td>\n",
       "      <td>missed audio</td>\n",
       "      <td>0.000000</td>\n",
       "    </tr>\n",
       "    <tr>\n",
       "      <th>1</th>\n",
       "      <td>1</td>\n",
       "      <td>Пуканабабцірозривальне Британська королівська ...</td>\n",
       "      <td>кука на бабці розривальна британська королівсь...</td>\n",
       "      <td>пуканабабцірозривальне британська королівська ...</td>\n",
       "      <td>кука на бабці розривальна британська королівсь...</td>\n",
       "      <td>0.296296</td>\n",
       "    </tr>\n",
       "    <tr>\n",
       "      <th>2</th>\n",
       "      <td>2</td>\n",
       "      <td>Такого ніхто не очікував Ми не змогли лишитися...</td>\n",
       "      <td>такого ніхто не очікував ми не змогли лишитися...</td>\n",
       "      <td>такого ніхто не очікував ми не змогли лишитися...</td>\n",
       "      <td>такого ніхто не очікував ми не змогли лишитися...</td>\n",
       "      <td>0.156250</td>\n",
       "    </tr>\n",
       "    <tr>\n",
       "      <th>3</th>\n",
       "      <td>3</td>\n",
       "      <td>зроблені деякий час тому Він лисіє</td>\n",
       "      <td>зроблені деякі частому він лисіє</td>\n",
       "      <td>зроблені деякий час тому він лисіє</td>\n",
       "      <td>зроблені деякі частому він лисіє</td>\n",
       "      <td>0.500000</td>\n",
       "    </tr>\n",
       "    <tr>\n",
       "      <th>4</th>\n",
       "      <td>4</td>\n",
       "      <td>Але під час скандального інтерв’ю Гаррі має та...</td>\n",
       "      <td>але під час скандального інтерв’ю гаррі має та...</td>\n",
       "      <td>але під час скандального інтервю гаррі має так...</td>\n",
       "      <td>але під час скандального інтервю гаррі має так...</td>\n",
       "      <td>0.250000</td>\n",
       "    </tr>\n",
       "    <tr>\n",
       "      <th>...</th>\n",
       "      <td>...</td>\n",
       "      <td>...</td>\n",
       "      <td>...</td>\n",
       "      <td>...</td>\n",
       "      <td>...</td>\n",
       "      <td>...</td>\n",
       "    </tr>\n",
       "    <tr>\n",
       "      <th>97</th>\n",
       "      <td>97</td>\n",
       "      <td>Все так само як і з незайманістю Так тільки на...</td>\n",
       "      <td>це так само як із незайманістю ну так тільки н...</td>\n",
       "      <td>все так само як і з незайманістю так тільки на...</td>\n",
       "      <td>це так само як із незайманістю ну так тільки н...</td>\n",
       "      <td>0.391304</td>\n",
       "    </tr>\n",
       "    <tr>\n",
       "      <th>98</th>\n",
       "      <td>98</td>\n",
       "      <td>як на мене взагалі безпрограшне поєднання Як В...</td>\n",
       "      <td>як на мене взагалі безпрогрошне поєднання як в...</td>\n",
       "      <td>як на мене взагалі безпрограшне поєднання як в...</td>\n",
       "      <td>як на мене взагалі безпрогрошне поєднання як в...</td>\n",
       "      <td>0.028571</td>\n",
       "    </tr>\n",
       "    <tr>\n",
       "      <th>99</th>\n",
       "      <td>99</td>\n",
       "      <td>Ти готова трохи пробігтися сонечко Аа Діду що ...</td>\n",
       "      <td>ти готова трохи пробігтися садочко діди що ти ...</td>\n",
       "      <td>ти готова трохи пробігтися сонечко аа діду що ...</td>\n",
       "      <td>ти готова трохи пробігтися садочко діди що ти ...</td>\n",
       "      <td>0.142857</td>\n",
       "    </tr>\n",
       "    <tr>\n",
       "      <th>100</th>\n",
       "      <td>100</td>\n",
       "      <td>одночасно налагоджуючи стосунки із Дідом Мамою...</td>\n",
       "      <td>одночасно на лагочручі стосунки із діду мамою ...</td>\n",
       "      <td>одночасно налагоджуючи стосунки із дідом мамою...</td>\n",
       "      <td>одночасно на лагочручі стосунки із діду мамою ...</td>\n",
       "      <td>0.384615</td>\n",
       "    </tr>\n",
       "    <tr>\n",
       "      <th>101</th>\n",
       "      <td>101</td>\n",
       "      <td>Свіжий мерч За посиланням під відео</td>\n",
       "      <td>свіжий мерч за посиланням під відео</td>\n",
       "      <td>свіжий мерч за посиланням під відео</td>\n",
       "      <td>свіжий мерч за посиланням під відео</td>\n",
       "      <td>0.000000</td>\n",
       "    </tr>\n",
       "  </tbody>\n",
       "</table>\n",
       "<p>102 rows × 6 columns</p>\n",
       "</div>"
      ],
      "text/plain": [
       "     index                                              label  \\\n",
       "0        0                                       missed audio   \n",
       "1        1  Пуканабабцірозривальне Британська королівська ...   \n",
       "2        2  Такого ніхто не очікував Ми не змогли лишитися...   \n",
       "3        3                зроблені деякий час тому Він лисіє    \n",
       "4        4  Але під час скандального інтерв’ю Гаррі має та...   \n",
       "..     ...                                                ...   \n",
       "97      97  Все так само як і з незайманістю Так тільки на...   \n",
       "98      98  як на мене взагалі безпрограшне поєднання Як В...   \n",
       "99      99  Ти готова трохи пробігтися сонечко Аа Діду що ...   \n",
       "100    100  одночасно налагоджуючи стосунки із Дідом Мамою...   \n",
       "101    101               Свіжий мерч За посиланням під відео    \n",
       "\n",
       "                                            prediction  \\\n",
       "0                                         missed audio   \n",
       "1    кука на бабці розривальна британська королівсь...   \n",
       "2    такого ніхто не очікував ми не змогли лишитися...   \n",
       "3                     зроблені деякі частому він лисіє   \n",
       "4    але під час скандального інтерв’ю гаррі має та...   \n",
       "..                                                 ...   \n",
       "97   це так само як із незайманістю ну так тільки н...   \n",
       "98   як на мене взагалі безпрогрошне поєднання як в...   \n",
       "99   ти готова трохи пробігтися садочко діди що ти ...   \n",
       "100  одночасно на лагочручі стосунки із діду мамою ...   \n",
       "101                свіжий мерч за посиланням під відео   \n",
       "\n",
       "                                           clean_label  \\\n",
       "0                                         missed audio   \n",
       "1    пуканабабцірозривальне британська королівська ...   \n",
       "2    такого ніхто не очікував ми не змогли лишитися...   \n",
       "3                   зроблені деякий час тому він лисіє   \n",
       "4    але під час скандального інтервю гаррі має так...   \n",
       "..                                                 ...   \n",
       "97   все так само як і з незайманістю так тільки на...   \n",
       "98   як на мене взагалі безпрограшне поєднання як в...   \n",
       "99   ти готова трохи пробігтися сонечко аа діду що ...   \n",
       "100  одночасно налагоджуючи стосунки із дідом мамою...   \n",
       "101                свіжий мерч за посиланням під відео   \n",
       "\n",
       "                                      clean_prediction       wer  \n",
       "0                                         missed audio  0.000000  \n",
       "1    кука на бабці розривальна британська королівсь...  0.296296  \n",
       "2    такого ніхто не очікував ми не змогли лишитися...  0.156250  \n",
       "3                     зроблені деякі частому він лисіє  0.500000  \n",
       "4    але під час скандального інтервю гаррі має так...  0.250000  \n",
       "..                                                 ...       ...  \n",
       "97   це так само як із незайманістю ну так тільки н...  0.391304  \n",
       "98   як на мене взагалі безпрогрошне поєднання як в...  0.028571  \n",
       "99   ти готова трохи пробігтися садочко діди що ти ...  0.142857  \n",
       "100  одночасно на лагочручі стосунки із діду мамою ...  0.384615  \n",
       "101                свіжий мерч за посиланням під відео  0.000000  \n",
       "\n",
       "[102 rows x 6 columns]"
      ]
     },
     "execution_count": 120,
     "metadata": {},
     "output_type": "execute_result"
    }
   ],
   "source": [
    "prediction_finetune"
   ]
  },
  {
   "cell_type": "code",
   "execution_count": 24,
   "metadata": {},
   "outputs": [
    {
     "data": {
      "text/plain": [
       "(90, 5)"
      ]
     },
     "execution_count": 24,
     "metadata": {},
     "output_type": "execute_result"
    }
   ],
   "source": [
    "prediction_small[prediction_small.wer>prediction_finetune.wer].shape"
   ]
  },
  {
   "cell_type": "code",
   "execution_count": 25,
   "metadata": {},
   "outputs": [
    {
     "data": {
      "text/plain": [
       "count    131.000000\n",
       "mean       0.059494\n",
       "std        0.122535\n",
       "min       -0.500000\n",
       "25%        0.000000\n",
       "50%        0.058824\n",
       "75%        0.121212\n",
       "max        0.470588\n",
       "Name: wer, dtype: float64"
      ]
     },
     "execution_count": 25,
     "metadata": {},
     "output_type": "execute_result"
    }
   ],
   "source": [
    "(prediction_small.wer - prediction_finetune.wer).describe()"
   ]
  },
  {
   "cell_type": "code",
   "execution_count": 45,
   "metadata": {},
   "outputs": [],
   "source": [
    "result = pd.concat([prediction_small, prediction_finetune.add_prefix('fine_tune_')], axis=1)"
   ]
  },
  {
   "cell_type": "code",
   "execution_count": 53,
   "metadata": {},
   "outputs": [
    {
     "data": {
      "text/plain": [
       "label                         І поки ви в паніці кидаєте королю Таїланду в о...\n",
       "prediction                     І поки ви у пані цекидаєте корлю Таїланду в о...\n",
       "clean_label                   і поки ви в паніці кидаєте королю таїланду в о...\n",
       "clean_prediction              і поки ви у пані цекидаєте корлю таїланду в ос...\n",
       "wer                                                                     0.47619\n",
       "fine_tune_label               І поки ви в паніці кидаєте королю Таїланду в о...\n",
       "fine_tune_prediction          і поки ви у пані це кидаєте корлю та іланду в ...\n",
       "fine_tune_clean_label         і поки ви в паніці кидаєте королю таїланду в о...\n",
       "fine_tune_clean_prediction    і поки ви у пані це кидаєте корлю та іланду в ...\n",
       "fine_tune_wer                                                           0.52381\n",
       "Name: 36, dtype: object"
      ]
     },
     "execution_count": 53,
     "metadata": {},
     "output_type": "execute_result"
    }
   ],
   "source": [
    "result[result.wer<result.fine_tune_wer].sort_values('fine_tune_wer', ascending=False).iloc[3]"
   ]
  },
  {
   "cell_type": "code",
   "execution_count": 52,
   "metadata": {},
   "outputs": [
    {
     "data": {
      "text/plain": [
       "array(['І поки ви в паніці кидаєте королю Таїланду в особисті повідомлення новий кліп Дуа Ліпи де вона співає що краще все ж таки вдома залишатись I would ve stayed at home Cause I was doing better alone Я закликаю вас не хвилюватись ',\n",
       "       ' І поки ви у пані цекидаєте корлю Таїланду в особисі повідомлення новий кліп «Дуаліпи», де вона співає, що краще все ж таки дома залишатись. «А я закликаю вас не хвилюватись».',\n",
       "       'і поки ви у пані це кидаєте корлю та іланду в особисі повідомлення новий кліп дуаліпи де вона співає що краще все ж таки дома залишатись я закликаю вас не хвилюватись '],\n",
       "      dtype=object)"
      ]
     },
     "execution_count": 52,
     "metadata": {},
     "output_type": "execute_result"
    }
   ],
   "source": [
    "result[result.wer<result.fine_tune_wer].sort_values('fine_tune_wer', ascending=False).iloc[3][['label', 'prediction', 'fine_tune_prediction']].values"
   ]
  },
  {
   "cell_type": "code",
   "execution_count": null,
   "metadata": {},
   "outputs": [],
   "source": []
  },
  {
   "cell_type": "code",
   "execution_count": 16,
   "metadata": {},
   "outputs": [],
   "source": [
    "# df = pd.read_csv('results/labels_baseline_prediction.csv')\n",
    "# df_eval = pd.read_csv('results/labels_eval_baseline_prediction.csv')\n",
    "\n",
    "# df = pd.concat([df, df_eval])\n",
    "# print(df.shape)\n",
    "# df.head()"
   ]
  },
  {
   "cell_type": "code",
   "execution_count": 126,
   "metadata": {},
   "outputs": [
    {
     "data": {
      "text/plain": [
       "array(['ніякий Як і абстрактні роздуми Зеленського про українську поліцію під час призначення нового міністра Я б дуже хотів щоб от як американським копам щоб всі наші діти довіряли українській поліції ',\n",
       "       'ніякий як і абстрактні роздуми зеленського про українську поліцію під час призначення нового міністра',\n",
       "       0.5333333333333333], dtype=object)"
      ]
     },
     "execution_count": 126,
     "metadata": {},
     "output_type": "execute_result"
    }
   ],
   "source": [
    "prediction_finetune.sort_values('wer', ascending=False).iloc[1][['label', 'prediction', 'wer']].values"
   ]
  },
  {
   "cell_type": "code",
   "execution_count": 127,
   "metadata": {},
   "outputs": [
    {
     "data": {
      "text/html": [
       "<div>\n",
       "<style scoped>\n",
       "    .dataframe tbody tr th:only-of-type {\n",
       "        vertical-align: middle;\n",
       "    }\n",
       "\n",
       "    .dataframe tbody tr th {\n",
       "        vertical-align: top;\n",
       "    }\n",
       "\n",
       "    .dataframe thead th {\n",
       "        text-align: right;\n",
       "    }\n",
       "</style>\n",
       "<table border=\"1\" class=\"dataframe\">\n",
       "  <thead>\n",
       "    <tr style=\"text-align: right;\">\n",
       "      <th></th>\n",
       "      <th>label</th>\n",
       "      <th>prediction</th>\n",
       "      <th>clean_label</th>\n",
       "      <th>clean_prediction</th>\n",
       "      <th>wer</th>\n",
       "    </tr>\n",
       "  </thead>\n",
       "  <tbody>\n",
       "    <tr>\n",
       "      <th>130</th>\n",
       "      <td>та розповідав на пресконференціях про те як ма...</td>\n",
       "      <td>та розповідав на пресконференціях про те як ма...</td>\n",
       "      <td>та розповідав на пресконференціях про те як ма...</td>\n",
       "      <td>та розповідав на пресконференціях про те як ма...</td>\n",
       "      <td>0.620690</td>\n",
       "    </tr>\n",
       "    <tr>\n",
       "      <th>89</th>\n",
       "      <td>ніякий Як і абстрактні роздуми Зеленського про...</td>\n",
       "      <td>ніякий як і абстрактні роздуми зеленського про...</td>\n",
       "      <td>ніякий як і абстрактні роздуми зеленського про...</td>\n",
       "      <td>ніякий як і абстрактні роздуми зеленського про...</td>\n",
       "      <td>0.533333</td>\n",
       "    </tr>\n",
       "    <tr>\n",
       "      <th>142</th>\n",
       "      <td>Так і хочеться мерщій забрати до себе у владу ...</td>\n",
       "      <td>так і хочеться мерщій забрати до себе у владу ...</td>\n",
       "      <td>так і хочеться мерщій забрати до себе у владу ...</td>\n",
       "      <td>так і хочеться мерщій забрати до себе у владу ...</td>\n",
       "      <td>0.476190</td>\n",
       "    </tr>\n",
       "    <tr>\n",
       "      <th>80</th>\n",
       "      <td>Але зараз бачимо Зеленський значно виріс Як ко...</td>\n",
       "      <td>але зараз бачимо зеленський значно виріс як комік</td>\n",
       "      <td>але зараз бачимо зеленський значно виріс як ко...</td>\n",
       "      <td>але зараз бачимо зеленський значно виріс як комік</td>\n",
       "      <td>0.466667</td>\n",
       "    </tr>\n",
       "    <tr>\n",
       "      <th>32</th>\n",
       "      <td>чому глядачі потроху переходять з Кварталу на ...</td>\n",
       "      <td>чому глядачі потроху переходять з кварталу на ...</td>\n",
       "      <td>чому глядачі потроху переходять з кварталу на ...</td>\n",
       "      <td>чому глядачі потроху переходять з кварталу на ...</td>\n",
       "      <td>0.444444</td>\n",
       "    </tr>\n",
       "    <tr>\n",
       "      <th>84</th>\n",
       "      <td>не потребував особливих втручань нового презид...</td>\n",
       "      <td>не потребував особливих втручень нового презид...</td>\n",
       "      <td>не потребував особливих втручань нового презид...</td>\n",
       "      <td>не потребував особливих втручень нового презид...</td>\n",
       "      <td>0.421053</td>\n",
       "    </tr>\n",
       "    <tr>\n",
       "      <th>3</th>\n",
       "      <td>Публічний образ Зеленського тобто не такого як...</td>\n",
       "      <td>публічний образ зеленського тобто не такого як...</td>\n",
       "      <td>публічний образ зеленського тобто не такого як...</td>\n",
       "      <td>публічний образ зеленського тобто не такого як...</td>\n",
       "      <td>0.406250</td>\n",
       "    </tr>\n",
       "    <tr>\n",
       "      <th>99</th>\n",
       "      <td>Але Тищенко не кум Зеленського Бо наш президен...</td>\n",
       "      <td>але тищенко не кум зеленського бо наш президен...</td>\n",
       "      <td>але тищенко не кум зеленського бо наш президен...</td>\n",
       "      <td>але тищенко не кум зеленського бо наш президен...</td>\n",
       "      <td>0.400000</td>\n",
       "    </tr>\n",
       "    <tr>\n",
       "      <th>36</th>\n",
       "      <td>Тому тепер другий термін Зеленського лякає ще ...</td>\n",
       "      <td>тому тепер другий термін зеленського лякає ще ...</td>\n",
       "      <td>тому тепер другий термін зеленського лякає ще ...</td>\n",
       "      <td>тому тепер другий термін зеленського лякає ще ...</td>\n",
       "      <td>0.400000</td>\n",
       "    </tr>\n",
       "    <tr>\n",
       "      <th>128</th>\n",
       "      <td>Тоді чому міністром спорту не став друг дитинс...</td>\n",
       "      <td>тоді чому міністром спорту не став друг дитинс...</td>\n",
       "      <td>тоді чому міністром спорту не став друг дитинс...</td>\n",
       "      <td>тоді чому міністром спорту не став друг дитинс...</td>\n",
       "      <td>0.379310</td>\n",
       "    </tr>\n",
       "  </tbody>\n",
       "</table>\n",
       "</div>"
      ],
      "text/plain": [
       "                                                 label  \\\n",
       "130  та розповідав на пресконференціях про те як ма...   \n",
       "89   ніякий Як і абстрактні роздуми Зеленського про...   \n",
       "142  Так і хочеться мерщій забрати до себе у владу ...   \n",
       "80   Але зараз бачимо Зеленський значно виріс Як ко...   \n",
       "32   чому глядачі потроху переходять з Кварталу на ...   \n",
       "84   не потребував особливих втручань нового презид...   \n",
       "3    Публічний образ Зеленського тобто не такого як...   \n",
       "99   Але Тищенко не кум Зеленського Бо наш президен...   \n",
       "36   Тому тепер другий термін Зеленського лякає ще ...   \n",
       "128  Тоді чому міністром спорту не став друг дитинс...   \n",
       "\n",
       "                                            prediction  \\\n",
       "130  та розповідав на пресконференціях про те як ма...   \n",
       "89   ніякий як і абстрактні роздуми зеленського про...   \n",
       "142  так і хочеться мерщій забрати до себе у владу ...   \n",
       "80   але зараз бачимо зеленський значно виріс як комік   \n",
       "32   чому глядачі потроху переходять з кварталу на ...   \n",
       "84   не потребував особливих втручень нового презид...   \n",
       "3    публічний образ зеленського тобто не такого як...   \n",
       "99   але тищенко не кум зеленського бо наш президен...   \n",
       "36   тому тепер другий термін зеленського лякає ще ...   \n",
       "128  тоді чому міністром спорту не став друг дитинс...   \n",
       "\n",
       "                                           clean_label  \\\n",
       "130  та розповідав на пресконференціях про те як ма...   \n",
       "89   ніякий як і абстрактні роздуми зеленського про...   \n",
       "142  так і хочеться мерщій забрати до себе у владу ...   \n",
       "80   але зараз бачимо зеленський значно виріс як ко...   \n",
       "32   чому глядачі потроху переходять з кварталу на ...   \n",
       "84   не потребував особливих втручань нового презид...   \n",
       "3    публічний образ зеленського тобто не такого як...   \n",
       "99   але тищенко не кум зеленського бо наш президен...   \n",
       "36   тому тепер другий термін зеленського лякає ще ...   \n",
       "128  тоді чому міністром спорту не став друг дитинс...   \n",
       "\n",
       "                                      clean_prediction       wer  \n",
       "130  та розповідав на пресконференціях про те як ма...  0.620690  \n",
       "89   ніякий як і абстрактні роздуми зеленського про...  0.533333  \n",
       "142  так і хочеться мерщій забрати до себе у владу ...  0.476190  \n",
       "80   але зараз бачимо зеленський значно виріс як комік  0.466667  \n",
       "32   чому глядачі потроху переходять з кварталу на ...  0.444444  \n",
       "84   не потребував особливих втручень нового презид...  0.421053  \n",
       "3    публічний образ зеленського тобто не такого як...  0.406250  \n",
       "99   але тищенко не кум зеленського бо наш президен...  0.400000  \n",
       "36   тому тепер другий термін зеленського лякає ще ...  0.400000  \n",
       "128  тоді чому міністром спорту не став друг дитинс...  0.379310  "
      ]
     },
     "execution_count": 127,
     "metadata": {},
     "output_type": "execute_result"
    }
   ],
   "source": [
    "prediction_finetune.sort_values('wer', ascending=False).head(10)"
   ]
  },
  {
   "cell_type": "code",
   "execution_count": 128,
   "metadata": {},
   "outputs": [],
   "source": [
    "prediction_finetune = prediction_finetune.reset_index()"
   ]
  },
  {
   "cell_type": "code",
   "execution_count": 134,
   "metadata": {},
   "outputs": [
    {
     "data": {
      "text/plain": [
       "array([['Аж раптом з’ясувалось що олігарх Коломойський перевів 40 мільйонів доларів на офшорні рахунки 95 ого кварталу Зеленського Ви дивилися оце розслідування Слідство Інфо за результатами відкриття Пандора пейперс про офшори Бачили кіно ',\n",
       "        'аж раптом з’ясувалося що олігарх коломойський перевів 40 млн доларів на офшорні рахунки 95 го кварталу зеленського ви дивилися оце розслідування слідства інфо за результатами відкриття пандора пейперс про офшори бачили кіно ',\n",
       "        'аж раптом зясувалось що олігарх коломойський перевів 40 мільйонів доларів на офшорні рахунки 95 ого кварталу зеленського ви дивилися оце розслідування слідство інфо за результатами відкриття пандора пейперс про офшори бачили кіно',\n",
       "        'аж раптом зясувалося що олігарх коломойський перевів 40 млн доларів на офшорні рахунки 95 го кварталу зеленського ви дивилися оце розслідування слідства інфо за результатами відкриття пандора пейперс про офшори бачили кіно',\n",
       "        0.125, 102]], dtype=object)"
      ]
     },
     "execution_count": 134,
     "metadata": {},
     "output_type": "execute_result"
    }
   ],
   "source": [
    "prediction_finetune.sample()[['label', 'prediction', 'clean_label', 'clean_prediction', 'wer', 'index']].values"
   ]
  },
  {
   "cell_type": "code",
   "execution_count": null,
   "metadata": {},
   "outputs": [],
   "source": [
    "7"
   ]
  },
  {
   "cell_type": "code",
   "execution_count": null,
   "metadata": {},
   "outputs": [],
   "source": []
  },
  {
   "cell_type": "code",
   "execution_count": null,
   "metadata": {},
   "outputs": [],
   "source": []
  },
  {
   "cell_type": "code",
   "execution_count": 47,
   "metadata": {},
   "outputs": [
    {
     "data": {
      "text/plain": [
       "(14651, 3)"
      ]
     },
     "execution_count": 47,
     "metadata": {},
     "output_type": "execute_result"
    }
   ],
   "source": [
    "whisper_large_predictions = pd.read_csv(\"results/predictions.csv\").dropna()\n",
    "whisper_large_predictions.shape"
   ]
  },
  {
   "cell_type": "code",
   "execution_count": 48,
   "metadata": {},
   "outputs": [],
   "source": [
    "calculate_wer(whisper_large_predictions)"
   ]
  },
  {
   "cell_type": "code",
   "execution_count": 49,
   "metadata": {},
   "outputs": [
    {
     "data": {
      "text/plain": [
       "array([[' Гадаю все буде добре Вау ти в’яжеш светр А чого такий величезний Це для моєї коханої машини Я вже зв’язав їй шарф на вихлопну трубу ',\n",
       "        \" Все буде добре. Моооу, ти в'яжеш свет! А чого такий величезний? Ну, це для моєї коханої машини. Я вже зв'язав її шарф на вихлопну трубу.\",\n",
       "        0.2]], dtype=object)"
      ]
     },
     "execution_count": 49,
     "metadata": {},
     "output_type": "execute_result"
    }
   ],
   "source": [
    "path_ = \"dataset/toronto_3/toronto_3_39.wav\"\n",
    "\n",
    "whisper_large_predictions[whisper_large_predictions[\"wav_path\"] == path_][['label', 'prediction', 'wer']].values"
   ]
  },
  {
   "cell_type": "code",
   "execution_count": 75,
   "metadata": {},
   "outputs": [],
   "source": [
    "labels = load_labels('results/filtered_labels_train.jsonl')\n"
   ]
  },
  {
   "cell_type": "code",
   "execution_count": null,
   "metadata": {},
   "outputs": [],
   "source": []
  }
 ],
 "metadata": {
  "kernelspec": {
   "display_name": "Python 3.10.12 ('golos_dev': venv)",
   "language": "python",
   "name": "python3"
  },
  "language_info": {
   "codemirror_mode": {
    "name": "ipython",
    "version": 3
   },
   "file_extension": ".py",
   "mimetype": "text/x-python",
   "name": "python",
   "nbconvert_exporter": "python",
   "pygments_lexer": "ipython3",
   "version": "3.10.12"
  },
  "orig_nbformat": 4,
  "vscode": {
   "interpreter": {
    "hash": "c27315e957413a2a3651028d4a8918b1aad0b308020fb4118a86eae96db28483"
   }
  }
 },
 "nbformat": 4,
 "nbformat_minor": 2
}
